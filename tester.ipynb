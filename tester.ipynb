{
 "cells": [
  {
   "cell_type": "code",
   "execution_count": null,
   "metadata": {},
   "outputs": [
    {
     "ename": "",
     "evalue": "",
     "output_type": "error",
     "traceback": [
      "\u001b[1;31mFailed to start the Kernel. \n",
      "\u001b[1;31mzmq.error.ZMQError: Address in use (addr='tcp://127.0.0.1:9002'). \n",
      "\u001b[1;31mView Jupyter <a href='command:jupyter.viewOutput'>log</a> for further details."
     ]
    }
   ],
   "source": [
    "from categories import print_tests, all_tests\n",
    "from rdkit import Chem"
   ]
  },
  {
   "cell_type": "code",
   "execution_count": null,
   "metadata": {},
   "outputs": [
    {
     "ename": "",
     "evalue": "",
     "output_type": "error",
     "traceback": [
      "\u001b[1;31mFailed to start the Kernel. \n",
      "\u001b[1;31mzmq.error.ZMQError: Address in use (addr='tcp://127.0.0.1:9002'). \n",
      "\u001b[1;31mView Jupyter <a href='command:jupyter.viewOutput'>log</a> for further details."
     ]
    }
   ],
   "source": [
    "def humanBuiltQuery(function = None, query_words = {'qtype':None, 'smart':None, 'prop':None, 'operand':None, 'logic': None, 'subqueries':None}):\n",
    "    \"\"\"This function is an attempt to automate building queries for the hard-coded tests below such that\n",
    "    print_tree functionality should still work with these newer test types. The query_words dictionary MUST contain\n",
    "    the key 'qtype' with value 'b:StructureQuery', 'b:ParameterQuery', 'b:ExclusionQuery', or 'LogicalQuery'. Other\n",
    "    keys should contain the necessary information for print_tree for the given qtype. The function will be the\n",
    "    query function, as built below. \n",
    "    \n",
    "    Required keys by qtype:\n",
    "    - Structure or Exclusion Query - 'smart'\n",
    "    - Parameter Query - 'prop', 'operand', 'value'\n",
    "    - Logical Query - 'logic', 'subqueries': provided as a list of dictionaries obeying input rules for this function\n",
    "    \"\"\"\n",
    "    new_query = Query(query_words)\n",
    "    new_query.query = function\n",
    "    qtype = query_words['qtype']\n",
    "    new_query.type = qtype\n",
    "    if qtype in ['b:StructureQuery', 'b:ExclusionQuery']:\n",
    "        new_query.smart = query_words['smart']\n",
    "    elif qtype == 'b:ParameterQuery':\n",
    "        new_query.prop = query_words['prop']\n",
    "        new_query.operand = query_words['operand']\n",
    "        new_query.value = query_words['value']\n",
    "    elif qtype == 'LogicalQuery':\n",
    "        new_query.logic = query_words['logic']\n",
    "        new_query.subqueries = [humanBuiltQuery(None, query_words['subqueries'][i]) for i in range(len(query_words['subqueries']))]\n",
    "\n",
    "    return new_query"
   ]
  },
  {
   "cell_type": "code",
   "execution_count": 26,
   "metadata": {},
   "outputs": [
    {
     "data": {
      "text/plain": [
       "'LogicalQuery'"
      ]
     },
     "execution_count": 26,
     "metadata": {},
     "output_type": "execute_result"
    }
   ],
   "source": [
    "qtype"
   ]
  },
  {
   "cell_type": "code",
   "execution_count": null,
   "metadata": {},
   "outputs": [
    {
     "ename": "",
     "evalue": "",
     "output_type": "error",
     "traceback": [
      "\u001b[1;31mFailed to start the Kernel. \n",
      "\u001b[1;31mzmq.error.ZMQError: Address in use (addr='tcp://127.0.0.1:9002'). \n",
      "\u001b[1;31mView Jupyter <a href='command:jupyter.viewOutput'>log</a> for further details."
     ]
    }
   ],
   "source": [
    "from categories import Query\n",
    "def create_test():\n",
    "    primamine=Chem.MolFromSmarts('[NX3;H2;!$(NC=[O,N,S]);!$(NCN)][CX3]')\n",
    "    secamine=Chem.MolFromSmarts('[NX3;H1;!$(NC=[O,N,S]);!$(NCN)](C)[CX3]')\n",
    "    tertamine=Chem.MolFromSmarts('[N;!$(NC=[O,N,S]);!$(NCN)](C)(C)[CX3]')\n",
    "    def test(x):\n",
    "        mol=x['mol']\n",
    "        smiles=x['smiles']\n",
    "        mw=x['mol_weight']\n",
    "        return 'c' not in smiles and mw<1000 and '1' not in smiles and (mol.HasSubstructMatch(primamine) or mol.HasSubstructMatch(secamine)\\\n",
    "        or mol.HasSubstructMatch(tertamine)) \n",
    "    return test\n",
    "\n",
    "aa_words = {'qtype':'LogicalQuery', 'logic':'And', \\\n",
    "             'subqueries': [{'qtype':'b:ExclusionQuery', 'smart':'c'}, \\\n",
    "                            {'qtype':'b:ParameterQuery', 'prop':'Molecular Weight', 'operand':'LessThan', 'value': 1000}, \\\n",
    "                            {'qtype': 'LogicalQuery', 'logic':'or', \\\n",
    "                              'subqueries': [{'qtype': 'b:StructureQuery', 'smart':'[NX3;H2;!$(NC=[O,N,S]);!$(NCN)][CX3]'}, \\\n",
    "                                             {'qtype': 'b:StructureQuery', 'smart':'[NX3;H1;!$(NC=[O,N,S]);!$(NCN)](C)[CX3]'}, \\\n",
    "                                             {'qtype': 'b:StructureQuery', 'smart':'[N;!$(NC=[O,N,S]);!$(NCN)](C)(C)[CX3]'}]}]} \n",
    "all_tests['Aliphatic Amines']=humanBuiltQuery(create_test, aa_words)"
   ]
  },
  {
   "cell_type": "code",
   "execution_count": null,
   "metadata": {},
   "outputs": [
    {
     "ename": "",
     "evalue": "",
     "output_type": "error",
     "traceback": [
      "\u001b[1;31mFailed to start the Kernel. \n",
      "\u001b[1;31mzmq.error.ZMQError: Address in use (addr='tcp://127.0.0.1:9002'). \n",
      "\u001b[1;31mView Jupyter <a href='command:jupyter.viewOutput'>log</a> for further details."
     ]
    }
   ],
   "source": [
    "all_tests['Aliphatic Amines'].print_tree(None)"
   ]
  },
  {
   "cell_type": "code",
   "execution_count": null,
   "metadata": {},
   "outputs": [],
   "source": [
    "all_tests['Aliphatic Amines'].print_tree(test_chem)"
   ]
  },
  {
   "cell_type": "code",
   "execution_count": 17,
   "metadata": {},
   "outputs": [
    {
     "data": {
      "text/plain": [
       "<bound method Query.print_tree of <categories.Query object at 0x000001BABE8ABE00>>"
      ]
     },
     "execution_count": 17,
     "metadata": {},
     "output_type": "execute_result"
    }
   ],
   "source": [
    "all_tests['Acid Chlorides'].print_tree"
   ]
  },
  {
   "cell_type": "code",
   "execution_count": null,
   "metadata": {},
   "outputs": [
    {
     "ename": "",
     "evalue": "",
     "output_type": "error",
     "traceback": [
      "\u001b[1;31mFailed to start the Kernel. \n",
      "\u001b[1;31mzmq.error.ZMQError: Address in use (addr='tcp://127.0.0.1:9002'). \n",
      "\u001b[1;31mView Jupyter <a href='command:jupyter.viewOutput'>log</a> for further details."
     ]
    }
   ],
   "source": [
    "# Define a test chemical as chemicals are stored in the GenRA database\n",
    "test_chem = {'dsstox_sid': 'DTXSID7020009',\n",
    " 'smiles': 'CC#N',\n",
    " 'logp': -0.33971,\n",
    " 'ws': 12.6417,\n",
    " 'mol_weight': 41.053,\n",
    " 'mol': Chem.MolFromSmiles('CC#N')}"
   ]
  },
  {
   "cell_type": "code",
   "execution_count": null,
   "metadata": {},
   "outputs": [],
   "source": [
    "from categories import queryAll"
   ]
  },
  {
   "cell_type": "code",
   "execution_count": null,
   "metadata": {},
   "outputs": [
    {
     "data": {
      "text/plain": [
       "{'Acid Chlorides': ['32', 'LogicalQuery'],\n",
       " 'Acrylamides': ['51', 'LogicalQuery'],\n",
       " 'Acrylates/Methacrylates (Acute toxicity)': ['70', 'LogicalQuery'],\n",
       " 'Aldehydes (Acute toxicity)': ['89', 'LogicalQuery'],\n",
       " 'Aliphatic Amines': ['121', 'LogicalQuery'],\n",
       " 'Aluminum Compounds': ['140', 'LogicalQuery'],\n",
       " 'Anilines (Acute toxicity)': ['159', 'LogicalQuery'],\n",
       " 'Azides (Acute toxicity)': ['184', 'LogicalQuery'],\n",
       " 'Benzotriazoles (Acute toxicity)': ['203', 'LogicalQuery'],\n",
       " 'Benzotriazole-hindered phenols': ['214', 'b:StructureQuery'],\n",
       " 'Boron Compounds': ['230', 'LogicalQuery'],\n",
       " 'Cationic (quaternary ammonium) surfactants': ['241', 'b:StructureQuery'],\n",
       " 'Cobalt': ['263', 'LogicalQuery'],\n",
       " 'Diazoniums (Acute toxicity)': ['282', 'LogicalQuery'],\n",
       " 'Epoxides': ['298', 'LogicalQuery'],\n",
       " 'Esters (Acute toxicity)': ['317', 'LogicalQuery'],\n",
       " 'Hydrazines and Related Compounds': ['336', 'LogicalQuery'],\n",
       " 'Hindered Amines': ['350', 'b:StructureQuery'],\n",
       " 'Imides (Acute toxicity)': ['369', 'LogicalQuery'],\n",
       " 'Lanthanides or Rare Earth Metals': ['382', 'LogicalQuery'],\n",
       " 'Neutral Organics': ['420', 'LogicalQuery'],\n",
       " 'Nickel Compounds': ['506', 'LogicalQuery'],\n",
       " 'Nonionic Surfactants': ['517', 'b:StructureQuery'],\n",
       " 'Organotins (Acute toxicity)': ['542', 'LogicalQuery'],\n",
       " 'Peroxides': ['563', 'LogicalQuery'],\n",
       " 'Phenolphthaleins': ['574', 'b:StructureQuery'],\n",
       " 'Phenols (Acute toxicity)': ['605', 'LogicalQuery'],\n",
       " 'Phosphates, Inorganic': ['622', 'LogicalQuery'],\n",
       " 'Phosphinate Esters (Acute toxicity)': ['641', 'LogicalQuery'],\n",
       " 'Stilbene, derivatives of 4,4-bis(triazin-2-ylamino)-': ['652',\n",
       "  'b:StructureQuery'],\n",
       " 'Thiols (Acute toxicity)': ['671', 'LogicalQuery'],\n",
       " 'Substituted Triazines (Acute toxicity)': ['690', 'LogicalQuery'],\n",
       " 'Triarylmethane Pigments/Dyes with Non-solubilizing Groups': ['710',\n",
       "  'LogicalQuery'],\n",
       " 'Vinyl Esters (Acute toxicity)': ['729', 'LogicalQuery'],\n",
       " 'Vinyl Sulfones': ['754', 'LogicalQuery'],\n",
       " 'Soluble complexes of Zinc': ['779', 'LogicalQuery'],\n",
       " 'Anhydrides, Carboxylic acid': ['795', 'LogicalQuery'],\n",
       " 'Dichlorobenzidine-based Pigments': ['806', 'b:StructureQuery'],\n",
       " 'Diisocyanates': ['822', 'LogicalQuery'],\n",
       " 'Alkoxysilanes': ['844', 'LogicalQuery'],\n",
       " 'Dianilines': ['859', 'LogicalQuery'],\n",
       " 'Anionic Surfactants': ['898', 'LogicalQuery'],\n",
       " 'Dithiocarbamates (Acute toxicity)': ['923', 'LogicalQuery'],\n",
       " 'beta-Naphthylamines, Sulfonated': ['934', 'b:StructureQuery'],\n",
       " 'Persistent, Bioaccumulative and Toxic (PBT) Chemicals': ['960',\n",
       "  'LogicalQuery'],\n",
       " 'Polynitroaromatics (Acute toxicity)': ['987', 'LogicalQuery'],\n",
       " 'Rosin': ['1012', 'LogicalQuery'],\n",
       " 'Zirconium Compounds': ['1028', 'LogicalQuery'],\n",
       " 'Aminobenzothiazole Azo Dyes': ['1043', 'LogicalQuery'],\n",
       " 'Acrylates/Methacrylates (Chronic toxicity)': ['1065', 'LogicalQuery'],\n",
       " 'Aldehydes (Chronic toxicity)': ['1087', 'LogicalQuery'],\n",
       " 'Anilines (Chronic toxicity)': ['1109', 'LogicalQuery'],\n",
       " 'Azides (Chronic toxicity)': ['1137', 'LogicalQuery'],\n",
       " 'Benzotriazoles (Chronic toxicity)': ['1159', 'LogicalQuery'],\n",
       " 'Dithiocarbamates (Chronic toxicity)': ['1187', 'LogicalQuery'],\n",
       " 'Esters (Chronic toxicity)': ['1209', 'LogicalQuery'],\n",
       " 'Imides (Chronic toxicity)': ['1231', 'LogicalQuery'],\n",
       " 'Organotins (Chronic toxicity)': ['1256', 'LogicalQuery'],\n",
       " 'Phenols (Chronic toxicity)': ['1290', 'LogicalQuery'],\n",
       " 'Phosphinate Esters (Chronic toxicity)': ['1312', 'LogicalQuery'],\n",
       " 'Polynitroaromatics (Chronic toxicity)': ['1342', 'LogicalQuery'],\n",
       " 'Substituted Triazines (Chronic toxicity)': ['1364', 'LogicalQuery'],\n",
       " 'Thiols (Chronic toxicity)': ['1386', 'LogicalQuery'],\n",
       " 'Vinyl Esters (Chronic toxicity)': ['1408', 'LogicalQuery'],\n",
       " 'Diazoniums (Chronic toxicity)': ['1427', 'LogicalQuery'],\n",
       " 'Ethylene Glycol Ethers': ['1438', 'b:StructureQuery']}"
      ]
     },
     "execution_count": 5,
     "metadata": {},
     "output_type": "execute_result"
    }
   ],
   "source": [
    "print_tests"
   ]
  },
  {
   "cell_type": "code",
   "execution_count": null,
   "metadata": {},
   "outputs": [],
   "source": [
    "new_test_chems = [{'dsstox_sid': 'DTXSID3060164',\n",
    "  'smiles': 'C1=CC=CC=C1C(C1C=CC=CC=1)C1C=CC=CC=1',\n",
    "  'logp': 5.76,\n",
    "  'ws': 4.07380277804113e-07,\n",
    "  'mol_weight': 244.125200512,\n",
    "  'mol': Chem.MolFromSmiles('C1=CC=CC=C1C(C1C=CC=CC=1)C1C=CC=CC=1')},\n",
    " {'dsstox_sid': 'DTXSID7060837',\n",
    "  'smiles': 'ICCCI',\n",
    "  'logp': 3.02,\n",
    "  'ws': 0.0007413102413009177,\n",
    "  'mol_weight': 295.855896192,\n",
    "  'mol': Chem.MolFromSmiles('ICCCI')},\n",
    " {'dsstox_sid': 'DTXSID9025879',\n",
    "  'smiles': 'OC(=O)C=CC1C=CC(C=CC(O)=O)=CC=1',\n",
    "  'logp': 1.99,\n",
    "  'ws': 0.009120108393559097,\n",
    "  'mol_weight': 218.0579088,\n",
    "  'mol': Chem.MolFromSmiles('OC(=O)C=CC1C=CC(C=CC(O)=O)=CC=1')},\n",
    " {'dsstox_sid': 'DTXSID2026282',\n",
    "  'smiles': 'O=C(NC1=CC2=C(NC3C4=C(C=CC2=3)C(=O)C2C(=CC=CC=2C4=O)NC(=O)C2C=CC=CC=2)C2=C1C(=O)C1C=CC=CC=1C2=O)C1C=CC=CC=1',\n",
    "  'logp': 3.11,\n",
    "  'ws': 2.454708915685029e-08,\n",
    "  'mol_weight': 667.174335520001,\n",
    "  'mol': Chem.MolFromSmiles('O=C(NC1=CC2=C(NC3C4=C(C=CC2=3)C(=O)C2C(=CC=CC=2C4=O)NC(=O)C2C=CC=CC=2)C2=C1C(=O)C1C=CC=CC=1C2=O)C1C=CC=CC=1')},\n",
    " {'dsstox_sid': 'DTXSID4052188',\n",
    "  'smiles': 'CC1(C)COC(C)(OC1)C1C=CC=CC=1',\n",
    "  'logp': 2.72,\n",
    "  'ws': 0.001148153621496883,\n",
    "  'mol_weight': 206.130679816,\n",
    "  'mol': Chem.MolFromSmiles('CC1(C)COC(C)(OC1)C1C=CC=CC=1')}]"
   ]
  },
  {
   "cell_type": "code",
   "execution_count": null,
   "metadata": {},
   "outputs": [
    {
     "name": "stdout",
     "output_type": "stream",
     "text": [
      "Neutral Organics\n"
     ]
    }
   ],
   "source": [
    "df = queryAll(new_test_chems[0])\n",
    "for category in all_tests.keys():\n",
    "     for chem in df.index:\n",
    "          if df.loc[chem,category] == True:\n",
    "               print(category)"
   ]
  },
  {
   "cell_type": "code",
   "execution_count": null,
   "metadata": {},
   "outputs": [
    {
     "data": {
      "text/plain": [
       "[<categories.Query at 0x1a16ba0fd70>,\n",
       " <categories.Query at 0x1a16bad8a10>,\n",
       " <categories.Query at 0x1a16ba9bc20>]"
      ]
     },
     "execution_count": 8,
     "metadata": {},
     "output_type": "execute_result"
    }
   ],
   "source": [
    "all_tests['Acid Chlorides'].subqueries"
   ]
  },
  {
   "cell_type": "code",
   "execution_count": null,
   "metadata": {},
   "outputs": [],
   "source": [
    "error_test = {'dsstox_sid': 'DTXSID3060164',\n",
    "  'smiles': 'C1=CC=CC=C1C(C1C=CC=CC=1)C1C=CC=CC=1',\n",
    "  'mol_weight': 'A',\n",
    "  'mol': Chem.MolFromSmiles('C1=CC=CC=C1C(C1C=CC=CC=1)C1C=CC=CC=1')}"
   ]
  },
  {
   "cell_type": "code",
   "execution_count": null,
   "metadata": {},
   "outputs": [
    {
     "name": "stdout",
     "output_type": "stream",
     "text": [
      "KeyError: logp must be provided\n",
      "KeyError: ws must be provided\n",
      "TypeError: mol_weight must be provided as float64. Please adjust the input accordingly.\n"
     ]
    },
    {
     "ename": "KeyError",
     "evalue": "'One or more attributes is missing. See printed statement(s).'",
     "output_type": "error",
     "traceback": [
      "\u001b[1;31m---------------------------------------------------------------------------\u001b[0m",
      "\u001b[1;31mKeyError\u001b[0m                                  Traceback (most recent call last)",
      "Cell \u001b[1;32mIn[10], line 1\u001b[0m\n\u001b[1;32m----> 1\u001b[0m \u001b[43mqueryAll\u001b[49m\u001b[43m(\u001b[49m\u001b[43merror_test\u001b[49m\u001b[43m)\u001b[49m\n",
      "File \u001b[1;32mc:\\Users\\aleary\\OneDrive - Environmental Protection Agency (EPA)\\Profile\\Documents\\EPA Categories\\EPA_Categories\\categories.py:831\u001b[0m, in \u001b[0;36mqueryAll\u001b[1;34m(chemicals)\u001b[0m\n\u001b[0;32m    828\u001b[0m chemicals \u001b[38;5;241m=\u001b[39m normalizeChemicals(chemicals)\n\u001b[0;32m    830\u001b[0m \u001b[38;5;66;03m#Manage column types in chemicals DataFrame and ensure all attributes are present\u001b[39;00m\n\u001b[1;32m--> 831\u001b[0m \u001b[43mcheckForAttributes\u001b[49m\u001b[43m(\u001b[49m\u001b[43mchemicals\u001b[49m\u001b[43m)\u001b[49m\n\u001b[0;32m    833\u001b[0m categories \u001b[38;5;241m=\u001b[39m all_tests\u001b[38;5;241m.\u001b[39mkeys()\n\u001b[0;32m    834\u001b[0m chem_dict \u001b[38;5;241m=\u001b[39m {\u001b[38;5;124m'\u001b[39m\u001b[38;5;124mchemicals\u001b[39m\u001b[38;5;124m'\u001b[39m:chemicals[\u001b[38;5;124m'\u001b[39m\u001b[38;5;124mdsstox_sid\u001b[39m\u001b[38;5;124m'\u001b[39m]}\n",
      "File \u001b[1;32mc:\\Users\\aleary\\OneDrive - Environmental Protection Agency (EPA)\\Profile\\Documents\\EPA Categories\\EPA_Categories\\categories.py:811\u001b[0m, in \u001b[0;36mcheckForAttributes\u001b[1;34m(x)\u001b[0m\n\u001b[0;32m    809\u001b[0m         type_counter \u001b[38;5;241m+\u001b[39m\u001b[38;5;241m=\u001b[39m \u001b[38;5;241m1\u001b[39m\n\u001b[0;32m    810\u001b[0m \u001b[38;5;28;01mif\u001b[39;00m key_counter \u001b[38;5;241m>\u001b[39m \u001b[38;5;241m0\u001b[39m:\n\u001b[1;32m--> 811\u001b[0m     \u001b[38;5;28;01mraise\u001b[39;00m \u001b[38;5;167;01mKeyError\u001b[39;00m(\u001b[38;5;124m'\u001b[39m\u001b[38;5;124mOne or more attributes is missing. See printed statement(s).\u001b[39m\u001b[38;5;124m'\u001b[39m)\n\u001b[0;32m    812\u001b[0m \u001b[38;5;28;01melif\u001b[39;00m type_counter \u001b[38;5;241m>\u001b[39m \u001b[38;5;241m0\u001b[39m:\n\u001b[0;32m    813\u001b[0m     \u001b[38;5;28;01mraise\u001b[39;00m \u001b[38;5;167;01mTypeError\u001b[39;00m(\u001b[38;5;124m'\u001b[39m\u001b[38;5;124mOne or more attributes is of the wrong type. See printed statement(s).\u001b[39m\u001b[38;5;124m'\u001b[39m)\n",
      "\u001b[1;31mKeyError\u001b[0m: 'One or more attributes is missing. See printed statement(s).'"
     ]
    }
   ],
   "source": [
    "queryAll(error_test)"
   ]
  },
  {
   "cell_type": "code",
   "execution_count": null,
   "metadata": {},
   "outputs": [
    {
     "data": {
      "text/html": [
       "<div>\n",
       "<style scoped>\n",
       "    .dataframe tbody tr th:only-of-type {\n",
       "        vertical-align: middle;\n",
       "    }\n",
       "\n",
       "    .dataframe tbody tr th {\n",
       "        vertical-align: top;\n",
       "    }\n",
       "\n",
       "    .dataframe thead th {\n",
       "        text-align: right;\n",
       "    }\n",
       "</style>\n",
       "<table border=\"1\" class=\"dataframe\">\n",
       "  <thead>\n",
       "    <tr style=\"text-align: right;\">\n",
       "      <th></th>\n",
       "      <th>chemicals</th>\n",
       "      <th>Acid Chlorides</th>\n",
       "      <th>Acrylamides</th>\n",
       "      <th>Acrylates/Methacrylates (Acute toxicity)</th>\n",
       "      <th>Aldehydes (Acute toxicity)</th>\n",
       "      <th>Aliphatic Amines</th>\n",
       "      <th>Aluminum Compounds</th>\n",
       "      <th>Anilines (Acute toxicity)</th>\n",
       "      <th>Azides (Acute toxicity)</th>\n",
       "      <th>Benzotriazoles (Acute toxicity)</th>\n",
       "      <th>...</th>\n",
       "      <th>Organotins (Chronic toxicity)</th>\n",
       "      <th>Phenols (Chronic toxicity)</th>\n",
       "      <th>Phosphinate Esters (Chronic toxicity)</th>\n",
       "      <th>Polynitroaromatics (Chronic toxicity)</th>\n",
       "      <th>Substituted Triazines (Chronic toxicity)</th>\n",
       "      <th>Thiols (Chronic toxicity)</th>\n",
       "      <th>Vinyl Esters (Chronic toxicity)</th>\n",
       "      <th>Diazoniums (Chronic toxicity)</th>\n",
       "      <th>Ethylene Glycol Ethers</th>\n",
       "      <th>Benzotriazoles</th>\n",
       "    </tr>\n",
       "  </thead>\n",
       "  <tbody>\n",
       "    <tr>\n",
       "      <th>0</th>\n",
       "      <td>DTXSID3060164</td>\n",
       "      <td>False</td>\n",
       "      <td>False</td>\n",
       "      <td>False</td>\n",
       "      <td>False</td>\n",
       "      <td>False</td>\n",
       "      <td>False</td>\n",
       "      <td>False</td>\n",
       "      <td>False</td>\n",
       "      <td>False</td>\n",
       "      <td>...</td>\n",
       "      <td>False</td>\n",
       "      <td>False</td>\n",
       "      <td>False</td>\n",
       "      <td>False</td>\n",
       "      <td>False</td>\n",
       "      <td>False</td>\n",
       "      <td>False</td>\n",
       "      <td>False</td>\n",
       "      <td>False</td>\n",
       "      <td>False</td>\n",
       "    </tr>\n",
       "    <tr>\n",
       "      <th>1</th>\n",
       "      <td>DTXSID7060837</td>\n",
       "      <td>False</td>\n",
       "      <td>False</td>\n",
       "      <td>False</td>\n",
       "      <td>False</td>\n",
       "      <td>False</td>\n",
       "      <td>False</td>\n",
       "      <td>False</td>\n",
       "      <td>False</td>\n",
       "      <td>False</td>\n",
       "      <td>...</td>\n",
       "      <td>False</td>\n",
       "      <td>False</td>\n",
       "      <td>False</td>\n",
       "      <td>False</td>\n",
       "      <td>False</td>\n",
       "      <td>False</td>\n",
       "      <td>False</td>\n",
       "      <td>False</td>\n",
       "      <td>False</td>\n",
       "      <td>False</td>\n",
       "    </tr>\n",
       "    <tr>\n",
       "      <th>2</th>\n",
       "      <td>DTXSID9025879</td>\n",
       "      <td>False</td>\n",
       "      <td>False</td>\n",
       "      <td>False</td>\n",
       "      <td>False</td>\n",
       "      <td>False</td>\n",
       "      <td>False</td>\n",
       "      <td>False</td>\n",
       "      <td>False</td>\n",
       "      <td>False</td>\n",
       "      <td>...</td>\n",
       "      <td>False</td>\n",
       "      <td>False</td>\n",
       "      <td>False</td>\n",
       "      <td>False</td>\n",
       "      <td>False</td>\n",
       "      <td>False</td>\n",
       "      <td>False</td>\n",
       "      <td>False</td>\n",
       "      <td>False</td>\n",
       "      <td>False</td>\n",
       "    </tr>\n",
       "    <tr>\n",
       "      <th>3</th>\n",
       "      <td>DTXSID2026282</td>\n",
       "      <td>False</td>\n",
       "      <td>False</td>\n",
       "      <td>False</td>\n",
       "      <td>False</td>\n",
       "      <td>False</td>\n",
       "      <td>False</td>\n",
       "      <td>False</td>\n",
       "      <td>False</td>\n",
       "      <td>False</td>\n",
       "      <td>...</td>\n",
       "      <td>False</td>\n",
       "      <td>False</td>\n",
       "      <td>False</td>\n",
       "      <td>False</td>\n",
       "      <td>False</td>\n",
       "      <td>False</td>\n",
       "      <td>False</td>\n",
       "      <td>False</td>\n",
       "      <td>False</td>\n",
       "      <td>False</td>\n",
       "    </tr>\n",
       "    <tr>\n",
       "      <th>4</th>\n",
       "      <td>DTXSID4052188</td>\n",
       "      <td>False</td>\n",
       "      <td>False</td>\n",
       "      <td>False</td>\n",
       "      <td>False</td>\n",
       "      <td>False</td>\n",
       "      <td>False</td>\n",
       "      <td>False</td>\n",
       "      <td>False</td>\n",
       "      <td>False</td>\n",
       "      <td>...</td>\n",
       "      <td>False</td>\n",
       "      <td>False</td>\n",
       "      <td>False</td>\n",
       "      <td>False</td>\n",
       "      <td>False</td>\n",
       "      <td>False</td>\n",
       "      <td>False</td>\n",
       "      <td>False</td>\n",
       "      <td>False</td>\n",
       "      <td>False</td>\n",
       "    </tr>\n",
       "  </tbody>\n",
       "</table>\n",
       "<p>5 rows × 67 columns</p>\n",
       "</div>"
      ],
      "text/plain": [
       "       chemicals  Acid Chlorides  Acrylamides  \\\n",
       "0  DTXSID3060164           False        False   \n",
       "1  DTXSID7060837           False        False   \n",
       "2  DTXSID9025879           False        False   \n",
       "3  DTXSID2026282           False        False   \n",
       "4  DTXSID4052188           False        False   \n",
       "\n",
       "   Acrylates/Methacrylates (Acute toxicity)  Aldehydes (Acute toxicity)  \\\n",
       "0                                     False                       False   \n",
       "1                                     False                       False   \n",
       "2                                     False                       False   \n",
       "3                                     False                       False   \n",
       "4                                     False                       False   \n",
       "\n",
       "   Aliphatic Amines  Aluminum Compounds  Anilines (Acute toxicity)  \\\n",
       "0             False               False                      False   \n",
       "1             False               False                      False   \n",
       "2             False               False                      False   \n",
       "3             False               False                      False   \n",
       "4             False               False                      False   \n",
       "\n",
       "   Azides (Acute toxicity)  Benzotriazoles (Acute toxicity)  ...  \\\n",
       "0                    False                            False  ...   \n",
       "1                    False                            False  ...   \n",
       "2                    False                            False  ...   \n",
       "3                    False                            False  ...   \n",
       "4                    False                            False  ...   \n",
       "\n",
       "   Organotins (Chronic toxicity)  Phenols (Chronic toxicity)  \\\n",
       "0                          False                       False   \n",
       "1                          False                       False   \n",
       "2                          False                       False   \n",
       "3                          False                       False   \n",
       "4                          False                       False   \n",
       "\n",
       "   Phosphinate Esters (Chronic toxicity)  \\\n",
       "0                                  False   \n",
       "1                                  False   \n",
       "2                                  False   \n",
       "3                                  False   \n",
       "4                                  False   \n",
       "\n",
       "   Polynitroaromatics (Chronic toxicity)  \\\n",
       "0                                  False   \n",
       "1                                  False   \n",
       "2                                  False   \n",
       "3                                  False   \n",
       "4                                  False   \n",
       "\n",
       "   Substituted Triazines (Chronic toxicity)  Thiols (Chronic toxicity)  \\\n",
       "0                                     False                      False   \n",
       "1                                     False                      False   \n",
       "2                                     False                      False   \n",
       "3                                     False                      False   \n",
       "4                                     False                      False   \n",
       "\n",
       "   Vinyl Esters (Chronic toxicity)  Diazoniums (Chronic toxicity)  \\\n",
       "0                            False                          False   \n",
       "1                            False                          False   \n",
       "2                            False                          False   \n",
       "3                            False                          False   \n",
       "4                            False                          False   \n",
       "\n",
       "   Ethylene Glycol Ethers  Benzotriazoles  \n",
       "0                   False           False  \n",
       "1                   False           False  \n",
       "2                   False           False  \n",
       "3                   False           False  \n",
       "4                   False           False  \n",
       "\n",
       "[5 rows x 67 columns]"
      ]
     },
     "execution_count": 11,
     "metadata": {},
     "output_type": "execute_result"
    }
   ],
   "source": [
    "queryAll(new_test_chems)"
   ]
  },
  {
   "cell_type": "code",
   "execution_count": null,
   "metadata": {},
   "outputs": [],
   "source": []
  },
  {
   "cell_type": "code",
   "execution_count": null,
   "metadata": {},
   "outputs": [
    {
     "data": {
      "text/plain": [
       "['Neutral Organics']"
      ]
     },
     "execution_count": 12,
     "metadata": {},
     "output_type": "execute_result"
    }
   ],
   "source": [
    "import pandas as pd\n",
    "mini_test_chem = dict(pd.DataFrame(new_test_chems).iloc[0])\n",
    "\n",
    "from categories import checkForAttributes, normalizeChemicals, listCategories\n",
    "mini_test_chem = normalizeChemicals(mini_test_chem)\n",
    "checkForAttributes(mini_test_chem)\n",
    "queryAll(mini_test_chem)\n",
    "\n",
    "dict(mini_test_chem)\n",
    "listCategories(mini_test_chem)"
   ]
  },
  {
   "cell_type": "code",
   "execution_count": null,
   "metadata": {},
   "outputs": [
    {
     "data": {
      "text/plain": [
       "[]"
      ]
     },
     "execution_count": 65,
     "metadata": {},
     "output_type": "execute_result"
    }
   ],
   "source": [
    "all_tests['Aliphatic Amines'].subqueries[3].subqueries\n"
   ]
  },
  {
   "cell_type": "code",
   "execution_count": null,
   "metadata": {},
   "outputs": [
    {
     "data": {
      "text/plain": [
       "[]"
      ]
     },
     "execution_count": 58,
     "metadata": {},
     "output_type": "execute_result"
    }
   ],
   "source": [
    "selfy.subqueries[1].subqueries"
   ]
  },
  {
   "cell_type": "code",
   "execution_count": null,
   "metadata": {},
   "outputs": [
    {
     "name": "stdout",
     "output_type": "stream",
     "text": [
      "(None, 'LogicalQuery', 'And', 'does not process')\n",
      "\t(None, 'b:ExclusionQuery', 'does not process')\n",
      "\t(None, 'b:ExclusionQuery', 'does not process')\n",
      "\t(None, 'b:ExclusionQuery', 'does not process')\n",
      "\t(None, 'b:ExclusionQuery', 'does not process')\n"
     ]
    }
   ],
   "source": [
    "all_tests['Aliphatic Amines'].print_tree(None)"
   ]
  }
 ],
 "metadata": {
  "kernelspec": {
   "display_name": "venv",
   "language": "python",
   "name": "python3"
  },
  "language_info": {
   "codemirror_mode": {
    "name": "ipython",
    "version": 3
   },
   "file_extension": ".py",
   "mimetype": "text/x-python",
   "name": "python",
   "nbconvert_exporter": "python",
   "pygments_lexer": "ipython3",
   "version": "3.12.2"
  }
 },
 "nbformat": 4,
 "nbformat_minor": 2
}
