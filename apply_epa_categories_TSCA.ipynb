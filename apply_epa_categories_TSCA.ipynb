{
 "cells": [
  {
   "cell_type": "markdown",
   "metadata": {},
   "source": [
    "# Category Matching"
   ]
  },
  {
   "cell_type": "code",
   "execution_count": 160,
   "metadata": {},
   "outputs": [],
   "source": [
    "#Import all needed functions\n",
    "from categories import queryAll, listCategories, singleQuery, printTree"
   ]
  },
  {
   "cell_type": "code",
   "execution_count": 161,
   "metadata": {},
   "outputs": [],
   "source": [
    "import pandas as pd\n",
    "\n",
    "#Read in the input file\n",
    "tsca_df = pd.read_excel('tsca_categorisation_071124_wmappingdict.xlsx')"
   ]
  },
  {
   "cell_type": "code",
   "execution_count": 162,
   "metadata": {},
   "outputs": [
    {
     "data": {
      "text/plain": [
       "Index(['Unnamed: 0', 'dtxsid', 'PREFERRED_NAME', 'CASRN', 'smiles', 'errors',\n",
       "       'qsar_ready_smiles', 'physical_form', 'NCC', 'ClassyFire', 'group',\n",
       "       'final_centroid', 'final_dist', 'lt65_picks', 'gt65_picks',\n",
       "       'MaxMin_selection_picks', 'diverse_picks', 'category_size',\n",
       "       'final_picks', 'screenable', 'screenable_centroid',\n",
       "       'screenable_centroid_id', 'screening_analogues', 'screening_dist',\n",
       "       'tested.count', 'phospho.substruct', 'silico.substruct', 'elements',\n",
       "       'elements_permitted', 'silicon_containing', 'MolWeight',\n",
       "       'nbLipinskiFailures', 'LogP_pred', 'LogP_predRange', 'AD_LogP',\n",
       "       'AD_index_LogP', 'Conf_index_LogP', 'MP_pred', 'MP_predRange', 'AD_MP',\n",
       "       'AD_index_MP', 'Conf_index_MP', 'BP_pred', 'BP_predRange', 'AD_BP',\n",
       "       'AD_index_BP', 'Conf_index_BP', 'LogVP_pred', 'VP_predRange', 'AD_VP',\n",
       "       'AD_index_VP', 'Conf_index_VP', 'LogWS_pred', 'WS_predRange', 'AD_WS',\n",
       "       'AD_index_WS', 'Conf_index_WS', 'LogHL_pred', 'HL_predRange', 'AD_HL',\n",
       "       'AD_index_HL', 'Conf_index_HL', 'RT_pred', 'AD_RT', 'AD_index_RT',\n",
       "       'Conf_index_RT', 'RT_predRange', 'LogKOA_pred', 'KOA_predRange',\n",
       "       'AD_KOA', 'AD_index_KOA', 'Conf_index_KOA', 'ionization', 'pKa_a_pred',\n",
       "       'pKa_a_predRange', 'pKa_b_pred', 'pKa_b_predRange', 'AD_pKa',\n",
       "       'AD_index_pKa', 'Conf_index_pKa', 'LogD55_pred', 'LogD55_predRange',\n",
       "       'LogD74_pred', 'LogD74_predRange', 'AD_LogD', 'AD_index_LogD',\n",
       "       'Conf_index_LogD', 'HLC', 'WS_pred_mol/L', 'WS_pred_mg/L',\n",
       "       'vendor_count', 'in_sigma_aldrich'],\n",
       "      dtype='object')"
      ]
     },
     "execution_count": 162,
     "metadata": {},
     "output_type": "execute_result"
    }
   ],
   "source": [
    "#Find the column names for the necessary information\n",
    "tsca_df.columns"
   ]
  },
  {
   "cell_type": "code",
   "execution_count": 163,
   "metadata": {},
   "outputs": [],
   "source": [
    "#Rename columns for processing by categories.py\n",
    "tsca_df = tsca_df.rename(columns={'MolWeight':'mol_weight', 'dtxsid':'dsstox_sid', 'LogP_pred':'logp', \\\n",
    "                                  'WS_pred_mg/L':'ws'})"
   ]
  },
  {
   "cell_type": "code",
   "execution_count": 164,
   "metadata": {},
   "outputs": [
    {
     "name": "stderr",
     "output_type": "stream",
     "text": [
      "[15:40:54] Explicit valence for atom # 22 O, 3, is greater than permitted\n",
      "[15:40:54] Explicit valence for atom # 0 O, 3, is greater than permitted\n",
      "[15:40:54] SMILES Parse Error: syntax error while parsing: -\n",
      "[15:40:54] SMILES Parse Error: Failed parsing SMILES '-' for input: '-'\n",
      "[15:40:54] Explicit valence for atom # 1 Br, 3, is greater than permitted\n",
      "[15:40:54] Explicit valence for atom # 1 Cl, 3, is greater than permitted\n",
      "[15:40:54] Explicit valence for atom # 1 Cl, 7, is greater than permitted\n",
      "[15:40:54] Explicit valence for atom # 5 C, 5, is greater than permitted\n",
      "[15:40:54] Explicit valence for atom # 4 C, 5, is greater than permitted\n",
      "[15:40:54] Explicit valence for atom # 4 Al, 7, is greater than permitted\n",
      "[15:40:54] Explicit valence for atom # 0 O, 3, is greater than permitted\n",
      "[15:40:54] Explicit valence for atom # 0 O, 3, is greater than permitted\n",
      "[15:40:54] Explicit valence for atom # 0 B, 6, is greater than permitted\n",
      "[15:40:55] Explicit valence for atom # 1 O, 3, is greater than permitted\n",
      "[15:40:55] Explicit valence for atom # 8 N, 4, is greater than permitted\n",
      "[15:40:55] Explicit valence for atom # 2 O, 3, is greater than permitted\n",
      "[15:40:55] Explicit valence for atom # 0 O, 3, is greater than permitted\n",
      "[15:40:55] Explicit valence for atom # 4 Sn, 6, is greater than permitted\n",
      "[15:40:55] Explicit valence for atom # 14 Cl, 2, is greater than permitted\n",
      "[15:40:55] Explicit valence for atom # 1 C, 5, is greater than permitted\n",
      "[15:40:55] Explicit valence for atom # 1 Si, 12, is greater than permitted\n",
      "[15:40:55] Explicit valence for atom # 2 B, 7, is greater than permitted\n",
      "[15:40:55] SMILES Parse Error: syntax error while parsing: -\n",
      "[15:40:55] SMILES Parse Error: Failed parsing SMILES '-' for input: '-'\n",
      "[15:40:55] Explicit valence for atom # 0 B, 4, is greater than permitted\n",
      "[15:40:55] Explicit valence for atom # 31 N, 4, is greater than permitted\n",
      "[15:40:55] Explicit valence for atom # 1 Si, 18, is greater than permitted\n",
      "[15:40:55] Explicit valence for atom # 0 B, 6, is greater than permitted\n",
      "[15:40:55] Explicit valence for atom # 0 B, 5, is greater than permitted\n",
      "[15:40:55] Explicit valence for atom # 0 C, 5, is greater than permitted\n"
     ]
    }
   ],
   "source": [
    "#Use smiles to calculate \"mol\" column\n",
    "from rdkit import Chem\n",
    "tsca_df['mol'] = [Chem.MolFromSmiles(i) for i in tsca_df['smiles']]"
   ]
  },
  {
   "cell_type": "code",
   "execution_count": 165,
   "metadata": {},
   "outputs": [
    {
     "data": {
      "text/html": [
       "<div>\n",
       "<style scoped>\n",
       "    .dataframe tbody tr th:only-of-type {\n",
       "        vertical-align: middle;\n",
       "    }\n",
       "\n",
       "    .dataframe tbody tr th {\n",
       "        vertical-align: top;\n",
       "    }\n",
       "\n",
       "    .dataframe thead th {\n",
       "        text-align: right;\n",
       "    }\n",
       "</style>\n",
       "<table border=\"1\" class=\"dataframe\">\n",
       "  <thead>\n",
       "    <tr style=\"text-align: right;\">\n",
       "      <th></th>\n",
       "      <th>Unnamed: 0</th>\n",
       "      <th>dsstox_sid</th>\n",
       "      <th>PREFERRED_NAME</th>\n",
       "      <th>CASRN</th>\n",
       "      <th>smiles</th>\n",
       "      <th>errors</th>\n",
       "      <th>qsar_ready_smiles</th>\n",
       "      <th>physical_form</th>\n",
       "      <th>NCC</th>\n",
       "      <th>ClassyFire</th>\n",
       "      <th>...</th>\n",
       "      <th>LogD74_predRange</th>\n",
       "      <th>AD_LogD</th>\n",
       "      <th>AD_index_LogD</th>\n",
       "      <th>Conf_index_LogD</th>\n",
       "      <th>HLC</th>\n",
       "      <th>WS_pred_mol/L</th>\n",
       "      <th>ws</th>\n",
       "      <th>vendor_count</th>\n",
       "      <th>in_sigma_aldrich</th>\n",
       "      <th>mol</th>\n",
       "    </tr>\n",
       "  </thead>\n",
       "  <tbody>\n",
       "    <tr>\n",
       "      <th>0</th>\n",
       "      <td>0</td>\n",
       "      <td>DTXSID4063036</td>\n",
       "      <td>1-Nonyne</td>\n",
       "      <td>3452-09-3</td>\n",
       "      <td>CCCCCCCC#C</td>\n",
       "      <td>NaN</td>\n",
       "      <td>CCCCCCCC#C</td>\n",
       "      <td>liquid</td>\n",
       "      <td>('Neutral Organics',)</td>\n",
       "      <td>Acetylides</td>\n",
       "      <td>...</td>\n",
       "      <td>[4.48:4.51]</td>\n",
       "      <td>0.0</td>\n",
       "      <td>0.4990</td>\n",
       "      <td>0.4420</td>\n",
       "      <td>6.606934e-02</td>\n",
       "      <td>6.025596e-05</td>\n",
       "      <td>7.479283</td>\n",
       "      <td>47.0</td>\n",
       "      <td>1.0</td>\n",
       "      <td>&lt;rdkit.Chem.rdchem.Mol object at 0x0000018D480...</td>\n",
       "    </tr>\n",
       "    <tr>\n",
       "      <th>1</th>\n",
       "      <td>1</td>\n",
       "      <td>DTXSID30870753</td>\n",
       "      <td>1-Hexyne</td>\n",
       "      <td>693-02-7</td>\n",
       "      <td>CCCCC#C</td>\n",
       "      <td>NaN</td>\n",
       "      <td>CCCCC#C</td>\n",
       "      <td>liquid</td>\n",
       "      <td>('Neutral Organics',)</td>\n",
       "      <td>Acetylides</td>\n",
       "      <td>...</td>\n",
       "      <td>[2.69:2.77]</td>\n",
       "      <td>0.0</td>\n",
       "      <td>0.4990</td>\n",
       "      <td>0.4470</td>\n",
       "      <td>1.122018e-01</td>\n",
       "      <td>4.897788e-03</td>\n",
       "      <td>402.001885</td>\n",
       "      <td>63.0</td>\n",
       "      <td>1.0</td>\n",
       "      <td>&lt;rdkit.Chem.rdchem.Mol object at 0x0000018D480...</td>\n",
       "    </tr>\n",
       "    <tr>\n",
       "      <th>2</th>\n",
       "      <td>2</td>\n",
       "      <td>DTXSID7062374</td>\n",
       "      <td>1,8-Nonadiyne</td>\n",
       "      <td>2396-65-8</td>\n",
       "      <td>C#CCCCCCC#C</td>\n",
       "      <td>NaN</td>\n",
       "      <td>C#CCCCCCC#C</td>\n",
       "      <td>liquid</td>\n",
       "      <td>('Neutral Organics',)</td>\n",
       "      <td>Acetylides</td>\n",
       "      <td>...</td>\n",
       "      <td>[3.4:3.84]</td>\n",
       "      <td>0.0</td>\n",
       "      <td>0.2950</td>\n",
       "      <td>0.3680</td>\n",
       "      <td>7.943282e-03</td>\n",
       "      <td>1.047129e-03</td>\n",
       "      <td>125.753752</td>\n",
       "      <td>39.0</td>\n",
       "      <td>1.0</td>\n",
       "      <td>&lt;rdkit.Chem.rdchem.Mol object at 0x0000018D66C...</td>\n",
       "    </tr>\n",
       "    <tr>\n",
       "      <th>3</th>\n",
       "      <td>3</td>\n",
       "      <td>DTXSID9061097</td>\n",
       "      <td>1-Pentadecyne</td>\n",
       "      <td>765-13-9</td>\n",
       "      <td>CCCCCCCCCCCCCC#C</td>\n",
       "      <td>NaN</td>\n",
       "      <td>CCCCCCCCCCCCCC#C</td>\n",
       "      <td>liquid</td>\n",
       "      <td>('Neutral Organics',)</td>\n",
       "      <td>Acetylides</td>\n",
       "      <td>...</td>\n",
       "      <td>[6.19:7.03]</td>\n",
       "      <td>0.0</td>\n",
       "      <td>0.2550</td>\n",
       "      <td>0.3525</td>\n",
       "      <td>1.318257e-03</td>\n",
       "      <td>7.585776e-09</td>\n",
       "      <td>0.001580</td>\n",
       "      <td>46.0</td>\n",
       "      <td>1.0</td>\n",
       "      <td>&lt;rdkit.Chem.rdchem.Mol object at 0x0000018D725...</td>\n",
       "    </tr>\n",
       "    <tr>\n",
       "      <th>4</th>\n",
       "      <td>4</td>\n",
       "      <td>DTXSID1061233</td>\n",
       "      <td>1,7-Octadiyne</td>\n",
       "      <td>871-84-1</td>\n",
       "      <td>C#CCCCCC#C</td>\n",
       "      <td>NaN</td>\n",
       "      <td>C#CCCCCC#C</td>\n",
       "      <td>liquid</td>\n",
       "      <td>('Neutral Organics',)</td>\n",
       "      <td>Acetylides</td>\n",
       "      <td>...</td>\n",
       "      <td>[1.91:2.63]</td>\n",
       "      <td>0.0</td>\n",
       "      <td>0.2895</td>\n",
       "      <td>0.3565</td>\n",
       "      <td>7.244360e-03</td>\n",
       "      <td>3.019952e-03</td>\n",
       "      <td>320.351195</td>\n",
       "      <td>58.0</td>\n",
       "      <td>1.0</td>\n",
       "      <td>&lt;rdkit.Chem.rdchem.Mol object at 0x0000018D725...</td>\n",
       "    </tr>\n",
       "    <tr>\n",
       "      <th>...</th>\n",
       "      <td>...</td>\n",
       "      <td>...</td>\n",
       "      <td>...</td>\n",
       "      <td>...</td>\n",
       "      <td>...</td>\n",
       "      <td>...</td>\n",
       "      <td>...</td>\n",
       "      <td>...</td>\n",
       "      <td>...</td>\n",
       "      <td>...</td>\n",
       "      <td>...</td>\n",
       "      <td>...</td>\n",
       "      <td>...</td>\n",
       "      <td>...</td>\n",
       "      <td>...</td>\n",
       "      <td>...</td>\n",
       "      <td>...</td>\n",
       "      <td>...</td>\n",
       "      <td>...</td>\n",
       "      <td>...</td>\n",
       "      <td>...</td>\n",
       "    </tr>\n",
       "    <tr>\n",
       "      <th>14242</th>\n",
       "      <td>14242</td>\n",
       "      <td>DTXSID7070391</td>\n",
       "      <td>1,1'-((Phenylmethylene)bis((2-methyl-4,1-pheny...</td>\n",
       "      <td>66085-68-5</td>\n",
       "      <td>CC1=CC(=CC=C1N=NC1=C2C=CC=CC2=CC=C1O)C(C1=CC=C...</td>\n",
       "      <td>NaN</td>\n",
       "      <td>CC1=CC(=CC=C1N=NC1C2=CC=CC=C2C=CC=1O)C(C1C=C(C...</td>\n",
       "      <td>solid</td>\n",
       "      <td>NaN</td>\n",
       "      <td>Triphenyl compounds</td>\n",
       "      <td>...</td>\n",
       "      <td>[6.04:8.64]</td>\n",
       "      <td>0.0</td>\n",
       "      <td>0.1745</td>\n",
       "      <td>0.3010</td>\n",
       "      <td>2.630268e-08</td>\n",
       "      <td>1.258925e-06</td>\n",
       "      <td>0.770780</td>\n",
       "      <td>2.0</td>\n",
       "      <td>0.0</td>\n",
       "      <td>&lt;rdkit.Chem.rdchem.Mol object at 0x0000018D588...</td>\n",
       "    </tr>\n",
       "    <tr>\n",
       "      <th>14243</th>\n",
       "      <td>14243</td>\n",
       "      <td>DTXSID70889405</td>\n",
       "      <td>Oxirane, 2,2',2''-[methylidynetris(phenyleneox...</td>\n",
       "      <td>106253-69-4</td>\n",
       "      <td>CC1=C(C=CC=C1N1CC(COC2=CC=C(C=C2)C(C2=CC=C(OCC...</td>\n",
       "      <td>NaN</td>\n",
       "      <td>CC1C(=CC=CC=1N1CC(COC2C=CC(=CC=2)C(C2C=CC(=CC=...</td>\n",
       "      <td>solid</td>\n",
       "      <td>NaN</td>\n",
       "      <td>Triphenyl compounds</td>\n",
       "      <td>...</td>\n",
       "      <td>[-0.47:5.93]</td>\n",
       "      <td>0.0</td>\n",
       "      <td>0.1345</td>\n",
       "      <td>0.3160</td>\n",
       "      <td>1.096478e-08</td>\n",
       "      <td>1.995262e-07</td>\n",
       "      <td>0.218366</td>\n",
       "      <td>5.0</td>\n",
       "      <td>0.0</td>\n",
       "      <td>&lt;rdkit.Chem.rdchem.Mol object at 0x0000018D588...</td>\n",
       "    </tr>\n",
       "    <tr>\n",
       "      <th>14244</th>\n",
       "      <td>14244</td>\n",
       "      <td>DTXSID90886794</td>\n",
       "      <td>3H-Pyrazol-3-one, 4,4'-[(phenylmethylene)bis[(...</td>\n",
       "      <td>66085-69-6</td>\n",
       "      <td>CC1=NN(C(=O)C1N=NC1=CC=C(C=C1C)C(C1=CC=CC=C1)C...</td>\n",
       "      <td>NaN</td>\n",
       "      <td>CC1=CC(=CC=C1N=NC1C(=O)N(N=C1C)C1C=CC=CC=1)C(C...</td>\n",
       "      <td>solid</td>\n",
       "      <td>NaN</td>\n",
       "      <td>Triphenyl compounds</td>\n",
       "      <td>...</td>\n",
       "      <td>[5.63:8.11]</td>\n",
       "      <td>0.0</td>\n",
       "      <td>0.1740</td>\n",
       "      <td>0.3885</td>\n",
       "      <td>3.630781e-08</td>\n",
       "      <td>1.949845e-07</td>\n",
       "      <td>0.131087</td>\n",
       "      <td>4.0</td>\n",
       "      <td>0.0</td>\n",
       "      <td>&lt;rdkit.Chem.rdchem.Mol object at 0x0000018D588...</td>\n",
       "    </tr>\n",
       "    <tr>\n",
       "      <th>14245</th>\n",
       "      <td>14245</td>\n",
       "      <td>DTXSID3073052</td>\n",
       "      <td>Phenol, 4,4'-[1-[4-[1-(4-hydroxyphenyl)-1-meth...</td>\n",
       "      <td>110726-28-8</td>\n",
       "      <td>CC(C)(C1=CC=C(O)C=C1)C1=CC=C(C=C1)C(C)(C1=CC=C...</td>\n",
       "      <td>NaN</td>\n",
       "      <td>CC(C)(C1C=CC(=CC=1)C(C)(C1C=CC(O)=CC=1)C1C=CC(...</td>\n",
       "      <td>solid</td>\n",
       "      <td>('Phenols (Acute toxicity)',)</td>\n",
       "      <td>Triphenyl compounds</td>\n",
       "      <td>...</td>\n",
       "      <td>[0.61:11.49]</td>\n",
       "      <td>1.0</td>\n",
       "      <td>0.3220</td>\n",
       "      <td>0.5050</td>\n",
       "      <td>1.949845e-08</td>\n",
       "      <td>8.511380e-06</td>\n",
       "      <td>3.610560</td>\n",
       "      <td>55.0</td>\n",
       "      <td>0.0</td>\n",
       "      <td>&lt;rdkit.Chem.rdchem.Mol object at 0x0000018D588...</td>\n",
       "    </tr>\n",
       "    <tr>\n",
       "      <th>14246</th>\n",
       "      <td>14246</td>\n",
       "      <td>DTXSID7031531</td>\n",
       "      <td>Leucomalachite green</td>\n",
       "      <td>129-73-7</td>\n",
       "      <td>CN(C)C1=CC=C(C=C1)C(C1=CC=CC=C1)C1=CC=C(C=C1)N...</td>\n",
       "      <td>NaN</td>\n",
       "      <td>CN(C)C1C=CC(=CC=1)C(C1C=CC=CC=1)C1C=CC(=CC=1)N...</td>\n",
       "      <td>solid</td>\n",
       "      <td>NaN</td>\n",
       "      <td>Triphenyl compounds</td>\n",
       "      <td>...</td>\n",
       "      <td>[5.07:5.83]</td>\n",
       "      <td>1.0</td>\n",
       "      <td>0.5275</td>\n",
       "      <td>0.7175</td>\n",
       "      <td>3.162278e-06</td>\n",
       "      <td>2.089296e-06</td>\n",
       "      <td>0.689906</td>\n",
       "      <td>63.0</td>\n",
       "      <td>1.0</td>\n",
       "      <td>&lt;rdkit.Chem.rdchem.Mol object at 0x0000018D588...</td>\n",
       "    </tr>\n",
       "  </tbody>\n",
       "</table>\n",
       "<p>14219 rows × 93 columns</p>\n",
       "</div>"
      ],
      "text/plain": [
       "       Unnamed: 0      dsstox_sid  \\\n",
       "0               0   DTXSID4063036   \n",
       "1               1  DTXSID30870753   \n",
       "2               2   DTXSID7062374   \n",
       "3               3   DTXSID9061097   \n",
       "4               4   DTXSID1061233   \n",
       "...           ...             ...   \n",
       "14242       14242   DTXSID7070391   \n",
       "14243       14243  DTXSID70889405   \n",
       "14244       14244  DTXSID90886794   \n",
       "14245       14245   DTXSID3073052   \n",
       "14246       14246   DTXSID7031531   \n",
       "\n",
       "                                          PREFERRED_NAME        CASRN  \\\n",
       "0                                               1-Nonyne    3452-09-3   \n",
       "1                                               1-Hexyne     693-02-7   \n",
       "2                                          1,8-Nonadiyne    2396-65-8   \n",
       "3                                          1-Pentadecyne     765-13-9   \n",
       "4                                          1,7-Octadiyne     871-84-1   \n",
       "...                                                  ...          ...   \n",
       "14242  1,1'-((Phenylmethylene)bis((2-methyl-4,1-pheny...   66085-68-5   \n",
       "14243  Oxirane, 2,2',2''-[methylidynetris(phenyleneox...  106253-69-4   \n",
       "14244  3H-Pyrazol-3-one, 4,4'-[(phenylmethylene)bis[(...   66085-69-6   \n",
       "14245  Phenol, 4,4'-[1-[4-[1-(4-hydroxyphenyl)-1-meth...  110726-28-8   \n",
       "14246                               Leucomalachite green     129-73-7   \n",
       "\n",
       "                                                  smiles errors  \\\n",
       "0                                             CCCCCCCC#C    NaN   \n",
       "1                                                CCCCC#C    NaN   \n",
       "2                                            C#CCCCCCC#C    NaN   \n",
       "3                                       CCCCCCCCCCCCCC#C    NaN   \n",
       "4                                             C#CCCCCC#C    NaN   \n",
       "...                                                  ...    ...   \n",
       "14242  CC1=CC(=CC=C1N=NC1=C2C=CC=CC2=CC=C1O)C(C1=CC=C...    NaN   \n",
       "14243  CC1=C(C=CC=C1N1CC(COC2=CC=C(C=C2)C(C2=CC=C(OCC...    NaN   \n",
       "14244  CC1=NN(C(=O)C1N=NC1=CC=C(C=C1C)C(C1=CC=CC=C1)C...    NaN   \n",
       "14245  CC(C)(C1=CC=C(O)C=C1)C1=CC=C(C=C1)C(C)(C1=CC=C...    NaN   \n",
       "14246  CN(C)C1=CC=C(C=C1)C(C1=CC=CC=C1)C1=CC=C(C=C1)N...    NaN   \n",
       "\n",
       "                                       qsar_ready_smiles physical_form  \\\n",
       "0                                             CCCCCCCC#C        liquid   \n",
       "1                                                CCCCC#C        liquid   \n",
       "2                                            C#CCCCCCC#C        liquid   \n",
       "3                                       CCCCCCCCCCCCCC#C        liquid   \n",
       "4                                             C#CCCCCC#C        liquid   \n",
       "...                                                  ...           ...   \n",
       "14242  CC1=CC(=CC=C1N=NC1C2=CC=CC=C2C=CC=1O)C(C1C=C(C...         solid   \n",
       "14243  CC1C(=CC=CC=1N1CC(COC2C=CC(=CC=2)C(C2C=CC(=CC=...         solid   \n",
       "14244  CC1=CC(=CC=C1N=NC1C(=O)N(N=C1C)C1C=CC=CC=1)C(C...         solid   \n",
       "14245  CC(C)(C1C=CC(=CC=1)C(C)(C1C=CC(O)=CC=1)C1C=CC(...         solid   \n",
       "14246  CN(C)C1C=CC(=CC=1)C(C1C=CC=CC=1)C1C=CC(=CC=1)N...         solid   \n",
       "\n",
       "                                 NCC           ClassyFire  ...  \\\n",
       "0              ('Neutral Organics',)           Acetylides  ...   \n",
       "1              ('Neutral Organics',)           Acetylides  ...   \n",
       "2              ('Neutral Organics',)           Acetylides  ...   \n",
       "3              ('Neutral Organics',)           Acetylides  ...   \n",
       "4              ('Neutral Organics',)           Acetylides  ...   \n",
       "...                              ...                  ...  ...   \n",
       "14242                            NaN  Triphenyl compounds  ...   \n",
       "14243                            NaN  Triphenyl compounds  ...   \n",
       "14244                            NaN  Triphenyl compounds  ...   \n",
       "14245  ('Phenols (Acute toxicity)',)  Triphenyl compounds  ...   \n",
       "14246                            NaN  Triphenyl compounds  ...   \n",
       "\n",
       "      LogD74_predRange AD_LogD  AD_index_LogD  Conf_index_LogD           HLC  \\\n",
       "0          [4.48:4.51]     0.0         0.4990           0.4420  6.606934e-02   \n",
       "1          [2.69:2.77]     0.0         0.4990           0.4470  1.122018e-01   \n",
       "2           [3.4:3.84]     0.0         0.2950           0.3680  7.943282e-03   \n",
       "3          [6.19:7.03]     0.0         0.2550           0.3525  1.318257e-03   \n",
       "4          [1.91:2.63]     0.0         0.2895           0.3565  7.244360e-03   \n",
       "...                ...     ...            ...              ...           ...   \n",
       "14242      [6.04:8.64]     0.0         0.1745           0.3010  2.630268e-08   \n",
       "14243     [-0.47:5.93]     0.0         0.1345           0.3160  1.096478e-08   \n",
       "14244      [5.63:8.11]     0.0         0.1740           0.3885  3.630781e-08   \n",
       "14245     [0.61:11.49]     1.0         0.3220           0.5050  1.949845e-08   \n",
       "14246      [5.07:5.83]     1.0         0.5275           0.7175  3.162278e-06   \n",
       "\n",
       "       WS_pred_mol/L          ws vendor_count  in_sigma_aldrich  \\\n",
       "0       6.025596e-05    7.479283         47.0               1.0   \n",
       "1       4.897788e-03  402.001885         63.0               1.0   \n",
       "2       1.047129e-03  125.753752         39.0               1.0   \n",
       "3       7.585776e-09    0.001580         46.0               1.0   \n",
       "4       3.019952e-03  320.351195         58.0               1.0   \n",
       "...              ...         ...          ...               ...   \n",
       "14242   1.258925e-06    0.770780          2.0               0.0   \n",
       "14243   1.995262e-07    0.218366          5.0               0.0   \n",
       "14244   1.949845e-07    0.131087          4.0               0.0   \n",
       "14245   8.511380e-06    3.610560         55.0               0.0   \n",
       "14246   2.089296e-06    0.689906         63.0               1.0   \n",
       "\n",
       "                                                     mol  \n",
       "0      <rdkit.Chem.rdchem.Mol object at 0x0000018D480...  \n",
       "1      <rdkit.Chem.rdchem.Mol object at 0x0000018D480...  \n",
       "2      <rdkit.Chem.rdchem.Mol object at 0x0000018D66C...  \n",
       "3      <rdkit.Chem.rdchem.Mol object at 0x0000018D725...  \n",
       "4      <rdkit.Chem.rdchem.Mol object at 0x0000018D725...  \n",
       "...                                                  ...  \n",
       "14242  <rdkit.Chem.rdchem.Mol object at 0x0000018D588...  \n",
       "14243  <rdkit.Chem.rdchem.Mol object at 0x0000018D588...  \n",
       "14244  <rdkit.Chem.rdchem.Mol object at 0x0000018D588...  \n",
       "14245  <rdkit.Chem.rdchem.Mol object at 0x0000018D588...  \n",
       "14246  <rdkit.Chem.rdchem.Mol object at 0x0000018D588...  \n",
       "\n",
       "[14219 rows x 93 columns]"
      ]
     },
     "execution_count": 165,
     "metadata": {},
     "output_type": "execute_result"
    }
   ],
   "source": [
    "# Since some of the chemicals (28) could not be processed by RDkit, remove those\n",
    "tsca_df = tsca_df.drop(index = list(tsca_df.loc[[i is None for i in tsca_df['mol']]].index))\n",
    "tsca_df"
   ]
  },
  {
   "cell_type": "code",
   "execution_count": 166,
   "metadata": {},
   "outputs": [],
   "source": [
    "#Output group membership as a DataFrame\n",
    "outputs = queryAll(tsca_df)"
   ]
  },
  {
   "cell_type": "code",
   "execution_count": 168,
   "metadata": {},
   "outputs": [
    {
     "data": {
      "text/plain": [
       "Acid Chlorides                              142\n",
       "Acrylamides                                  23\n",
       "Acrylates/Methacrylates (Acute toxicity)    243\n",
       "Aldehydes (Acute toxicity)                  419\n",
       "Aliphatic Amines                              7\n",
       "                                           ... \n",
       "Thiols (Chronic toxicity)                     4\n",
       "Vinyl Esters (Chronic toxicity)               2\n",
       "Diazoniums (Chronic toxicity)                 0\n",
       "Ethylene Glycol Ethers                       39\n",
       "Benzotriazoles                                0\n",
       "Length: 66, dtype: int64"
      ]
     },
     "execution_count": 168,
     "metadata": {},
     "output_type": "execute_result"
    }
   ],
   "source": [
    "outputs.sum(numeric_only=True)"
   ]
  },
  {
   "cell_type": "code",
   "execution_count": 169,
   "metadata": {},
   "outputs": [],
   "source": [
    "outputs.to_csv('outputs/TSCA_categories.csv')"
   ]
  },
  {
   "cell_type": "code",
   "execution_count": 211,
   "metadata": {},
   "outputs": [
    {
     "data": {
      "text/plain": [
       "(6625, 5247, 2347)"
      ]
     },
     "execution_count": 211,
     "metadata": {},
     "output_type": "execute_result"
    }
   ],
   "source": [
    "#The following code explores whether category membership is unique using the EPA Categories, and how this cross-membership \n",
    "#occurs\n",
    "\n",
    "column_list = list(outputs.columns)\n",
    "ones = 0\n",
    "ohs = 0\n",
    "pluses = 0\n",
    "groups = []\n",
    "for i, row in outputs.iterrows():\n",
    "    my_sum = sum(row.values[1:])\n",
    "    if my_sum == 1:\n",
    "        ones += 1\n",
    "    elif my_sum == 0:\n",
    "        ohs += 1\n",
    "    else:\n",
    "        pluses += 1\n",
    "        row_list = list(row)\n",
    "        indices = [i for i,x in enumerate(row_list) if x == True]\n",
    "        group = [column_list[j] for j in indices]\n",
    "        groups.append(indices)\n",
    "ohs, ones, pluses"
   ]
  },
  {
   "cell_type": "code",
   "execution_count": 212,
   "metadata": {},
   "outputs": [],
   "source": [
    "# This should visualize which categories are often assigned to the same chemical together, requires the \n",
    "#NetworkX package\n",
    "import networkx as nx\n",
    "\n",
    "G = nx.Graph()\n",
    "\n",
    "#Make a node for each Category\n",
    "G.add_nodes_from([(k, {\"label\" :column_list[k]}) for k in range(1,len(column_list))])\n",
    "\n",
    "#Construct the edges\n",
    "edges = []\n",
    "for group in groups:\n",
    "    for i in range(len(group)):\n",
    "        item = group[i]\n",
    "        while i < len(group)-1:\n",
    "            i += 1\n",
    "            edges.append((item,group[i]))\n",
    "\n",
    "G.add_edges_from(edges)\n"
   ]
  },
  {
   "cell_type": "code",
   "execution_count": 214,
   "metadata": {},
   "outputs": [
    {
     "name": "stdout",
     "output_type": "stream",
     "text": [
      "Dichlorobenzidine-based Pigments\n",
      "Stilbene, derivatives of 4,4-bis(triazin-2-ylamino)-\n",
      "Dithiocarbamates (Chronic toxicity)\n",
      "Diazoniums (Acute toxicity)\n",
      "Zirconium Compounds\n",
      "Benzotriazoles\n",
      "Anionic Surfactants\n",
      "Nickel Compounds\n",
      "Epoxides\n",
      "Diazoniums (Chronic toxicity)\n",
      "beta-Naphthylamines, Sulfonated\n",
      "Phosphates, Inorganic\n",
      "Cationic (quaternary ammonium) surfactants\n",
      "Acrylamides\n",
      "Organotins (Chronic toxicity)\n",
      "Organotins (Acute toxicity)\n",
      "Soluble complexes of Zinc\n",
      "Lanthanides or Rare Earth Metals\n",
      "Azides (Chronic toxicity)\n",
      "Cobalt\n",
      "Polynitroaromatics (Chronic toxicity)\n",
      "Phosphinate Esters (Chronic toxicity)\n"
     ]
    }
   ],
   "source": [
    "#For better visualization, these nodes should be removed from the visualization as they have no connections\n",
    "no_connections = [38,30,54,14,47,66,42,22,15,64,44,28,12,2,57,24,36,20,52,13,60,59]\n",
    "G.remove_nodes_from(no_connections)\n",
    "\n",
    "for i in no_connections:\n",
    "    print(column_list[i])"
   ]
  },
  {
   "cell_type": "code",
   "execution_count": 215,
   "metadata": {},
   "outputs": [
    {
     "data": {
      "image/png": "[encoded data removed]",
      "text/plain": [
       "<Figure size 640x480 with 1 Axes>"
      ]
     },
     "metadata": {},
     "output_type": "display_data"
    }
   ],
   "source": [
    "import matplotlib.pyplot as plt\n",
    "\n",
    "ax1 = plt.plot()\n",
    "nx.draw(G, with_labels=True, font_weight='bold')\n",
    "plt.show()\n"
   ]
  },
  {
   "cell_type": "code",
   "execution_count": 174,
   "metadata": {},
   "outputs": [],
   "source": [
    "nx.write_graphml(G, 'outputs/networkx_graph.ml')\n"
   ]
  },
  {
   "cell_type": "code",
   "execution_count": 175,
   "metadata": {},
   "outputs": [
    {
     "name": "stdout",
     "output_type": "stream",
     "text": [
      "Stilbene, derivatives of 4,4-bis(triazin-2-ylamino)-\n",
      "Zirconium Compounds\n",
      "Benzotriazoles\n",
      "Anionic Surfactants\n",
      "Epoxides\n",
      "Diazoniums (Chronic toxicity)\n",
      "beta-Naphthylamines, Sulfonated\n",
      "Organotins (Chronic toxicity)\n",
      "Organotins (Acute toxicity)\n",
      "Polynitroaromatics (Chronic toxicity)\n",
      "Phosphinate Esters (Chronic toxicity)\n"
     ]
    }
   ],
   "source": [
    "# Show the categories for which no chemicals get assigned from our data set\n",
    "for i in no_connections:\n",
    "    if sum(outputs.iloc[:,i]) < 1:\n",
    "        print(column_list[i])"
   ]
  },
  {
   "cell_type": "markdown",
   "metadata": {},
   "source": [
    "# Category Corrections"
   ]
  },
  {
   "cell_type": "markdown",
   "metadata": {},
   "source": [
    "\\* Categories need review from an expert (such as Grace or Imran)\n",
    "\n",
    "(cleared) categories are those that we have evidence for as being functional categories that we may genuinely just not have any instances of in our data set. "
   ]
  },
  {
   "cell_type": "markdown",
   "metadata": {},
   "source": [
    "## Anionic Surfactants*"
   ]
  },
  {
   "cell_type": "markdown",
   "metadata": {},
   "source": [
    "There appears to be an issue with the definition of Anionic Surfactants - I cannot match anything into the category, even chemicals listed online as part of the category. The issue seems to occur within the first two tests, which limit the atoms and charges that can appear in members of the category.\n",
    "\n",
    "It may be productive to do a similar examination of the other empty catgeories, since I noticed this specific one because its emptiness stood out to me. "
   ]
  },
  {
   "cell_type": "code",
   "execution_count": 224,
   "metadata": {},
   "outputs": [],
   "source": [
    "#This is Dioctyl sodium sulfosuccinate by smiles, mol, and mol_weight. The logp and ws are just dummy numbers, \n",
    "# as they are not used by this category definition anyway. \n",
    "x = {'dsstox_sid':'DTXSID7041881', 'smiles': ' [Na+].CCCCCCCCOC(=O)CC(C(=O)OCCCCCCCC)S([O-])(=O)=O', 'mol_weight':244.56 ,'logp':1.60, 'ws':0.00, \"mol\": Chem.MolFromSmiles(\"[Na+].CCCCCCCCOC(=O)CC(C(=O)OCCCCCCCC)S([O-])(=O)=O\")}\n",
    "x['ws'] = 1000*x['mol_weight']*x['ws']"
   ]
  },
  {
   "cell_type": "code",
   "execution_count": 225,
   "metadata": {},
   "outputs": [
    {
     "name": "stdout",
     "output_type": "stream",
     "text": [
      "('CustomQuery', 'LogicalQuery', 'And', False)\n",
      "\t('CustomQuery', 'b:StructureQuery', 'Straight Alkyl Chain - Cs are adjacent in SMILES', 'does not process')\n",
      "\t('CustomQuery', 'LogicalQuery', 'Or', 'does not process')\n",
      "\t\t('CustomQuery', 'b:StructureQuery', 'COS(=O)(=O)[OH,O-]', 'does not process')\n",
      "\t\t('CustomQuery', 'b:StructureQuery', 'CS(=O)(=O)[OH,O-]', 'does not process')\n",
      "\t\t('CustomQuery', 'b:StructureQuery', 'COP([OH1])([OH1])=O', 'does not process')\n",
      "\t\t('CustomQuery', 'b:StructureQuery', '[CX3;!$(Cc)](=O)[OX2H1]', 'does not process')\n",
      "\t\t('CustomQuery', 'b:StructureQuery', '[Si][OX2H]', 'does not process')\n"
     ]
    }
   ],
   "source": [
    "printTree(category_title=\"Anionic Surfactants\",one_chem=x)"
   ]
  },
  {
   "cell_type": "code",
   "execution_count": 226,
   "metadata": {},
   "outputs": [
    {
     "name": "stdout",
     "output_type": "stream",
     "text": [
      "Set check: False\n",
      "Substructure Checks (only one true needed):\n",
      "False True False False False\n"
     ]
    }
   ],
   "source": [
    "import re\n",
    "\n",
    "sulfate=Chem.MolFromSmarts('COS(=O)(=O)[OH,O-]')\n",
    "sulfonate=Chem.MolFromSmarts('CS(=O)(=O)[OH,O-]')\n",
    "phosphate=Chem.MolFromSmarts('COP([OH1])([OH1])=O')\n",
    "carboxylic=Chem.MolFromSmarts('[CX3;!$(Cc)](=O)[OX2H1]')\n",
    "silicic=Chem.MolFromSmarts('[Si][OX2H]')\n",
    "\n",
    "mol=x['mol']\n",
    "smiles=x['smiles']\n",
    "if set(smiles)-set(['C','c','O','P','S','i','[',']','(',')','=']):\n",
    "    print(\"Set check: False\")\n",
    "m=re.compile(r'\\(.?C.?\\)')\n",
    "if m.findall(smiles):\n",
    "    print(\"Chain check: False\")\n",
    "rgroup_indexes=[i for i,atom in enumerate(smiles) if atom=='C']\n",
    "if len(rgroup_indexes) == 0:\n",
    "    extrema_check = [0]\n",
    "else:\n",
    "    extrema_check = rgroup_indexes\n",
    "print(\"Substructure Checks (only one true needed):\")\n",
    "print (mol.HasSubstructMatch(sulfate), mol.HasSubstructMatch(sulfonate), mol.HasSubstructMatch(phosphate), mol.HasSubstructMatch(carboxylic),\\\n",
    " mol.HasSubstructMatch(silicic))\\\n",
    "and sorted(rgroup_indexes)==range(min(extrema_check),max(extrema_check)+1) #Tests for straight alkyl chains\n"
   ]
  },
  {
   "cell_type": "markdown",
   "metadata": {},
   "source": [
    "## Stilbene, derivatives of 4,4-bis(triazin-2-ylamino)-*"
   ]
  },
  {
   "cell_type": "markdown",
   "metadata": {},
   "source": [
    "Due to the complex group name, I cannot use an internet search to provide myself with a category member. I attempted to find relevant chemicals on the CompTox Chemicals Dashboard, but some expert assistance here might be needed."
   ]
  },
  {
   "cell_type": "code",
   "execution_count": 179,
   "metadata": {},
   "outputs": [
    {
     "name": "stdout",
     "output_type": "stream",
     "text": [
      "('652', 'b:StructureQuery', 'c1([#16](=[#8])(=[#8])[#8])c([#6h]=[#6h]c2c([#16](=[#8])(=[#8])[#8])cc([#7h]c3nc([#6X4])nc([#6X4])n3)cc2)ccc([#7h]c2nc([#6X4])nc([#6X4])n2)c1', 'does not process')\n"
     ]
    }
   ],
   "source": [
    "printTree(\"Stilbene, derivatives of 4,4-bis(triazin-2-ylamino)-\")"
   ]
  },
  {
   "cell_type": "code",
   "execution_count": 222,
   "metadata": {},
   "outputs": [],
   "source": [
    "# The tested chemical is Disodium 2,2'-(ethene-1,2-diyl)bis{5-[(4,6-dianilino-1,3,5-triazin-2-yl)amino]benzene-1-sulfonate\n",
    "# Only the structure matters for the query, but the DTXSID and mol_weight are also\n",
    "# provided for identifiability \n",
    "\n",
    "x = {'dsstox_sid':'DTXSID90889422', 'smiles': '[Na+].[Na+].[O-]S(=O)(=O)C1=C(C=CC2=C(C=C(NC3=NC(NC4=CC=CC=C4)=NC(NC4=CC=CC=C4)=N3)C=C2)S([O-])(=O)=O)C=CC(NC2=NC(NC3=CC=CC=C3)=NC(NC3=CC=CC=C3)=N2)=C1', 'mol_weight':936.93 ,'logp':1.60, 'ws':0.00}\n",
    "x['mol'] = Chem.MolFromSmiles(x['smiles'])\n",
    "x['ws'] = 1000*x['mol_weight']*x['ws']"
   ]
  },
  {
   "cell_type": "code",
   "execution_count": 223,
   "metadata": {},
   "outputs": [
    {
     "name": "stdout",
     "output_type": "stream",
     "text": [
      "('652', 'b:StructureQuery', 'c1([#16](=[#8])(=[#8])[#8])c([#6h]=[#6h]c2c([#16](=[#8])(=[#8])[#8])cc([#7h]c3nc([#6X4])nc([#6X4])n3)cc2)ccc([#7h]c2nc([#6X4])nc([#6X4])n2)c1', False)\n"
     ]
    }
   ],
   "source": [
    "printTree(category_title=\"Stilbene, derivatives of 4,4-bis(triazin-2-ylamino)-\", one_chem=x)"
   ]
  },
  {
   "cell_type": "markdown",
   "metadata": {},
   "source": [
    "## Zirconium Compounds\n",
    "(cleared)"
   ]
  },
  {
   "cell_type": "code",
   "execution_count": 182,
   "metadata": {},
   "outputs": [
    {
     "name": "stdout",
     "output_type": "stream",
     "text": [
      "('1028', 'LogicalQuery', 'And', 'does not process')\n",
      "\t('1023', 'b:StructureQuery', '[Zr]', 'does not process')\n",
      "\t('1025', 'b:ParameterQuery', 'Molecular weight', 1000.0, 'LessThan', 'does not process')\n"
     ]
    }
   ],
   "source": [
    "printTree('Zirconium Compounds')"
   ]
  },
  {
   "cell_type": "code",
   "execution_count": 183,
   "metadata": {},
   "outputs": [],
   "source": [
    "# The tested chemical is Zirconium(2+) 1-[{2-[bis(2-hydroxypropyl)amino]ethyl}(2-oxidoethyl)amino]propan-2-olate\n",
    "# Only the structure and mol_weight matter for the query, but the DTXSID is also provided for identifiability \n",
    "\n",
    "x = {'dsstox_sid':'DTXSID30892278', 'smiles': '[Zr++].CC(O)CN(CCN(CC[O-])CC(C)[O-])CC(C)O', 'mol_weight':367.6 ,'logp':1.60, 'ws':0.00}\n",
    "x['mol'] = Chem.MolFromSmiles(x['smiles'])\n",
    "x['ws'] = 1000*x['mol_weight']*x['ws']\n",
    "\n"
   ]
  },
  {
   "cell_type": "code",
   "execution_count": 184,
   "metadata": {},
   "outputs": [
    {
     "name": "stdout",
     "output_type": "stream",
     "text": [
      "('1028', 'LogicalQuery', 'And', True)\n",
      "\t('1023', 'b:StructureQuery', '[Zr]', True)\n",
      "\t('1025', 'b:ParameterQuery', 'Molecular weight', 1000.0, 'LessThan', True)\n"
     ]
    }
   ],
   "source": [
    "printTree(category_title='Zirconium Compounds', one_chem= x)"
   ]
  },
  {
   "cell_type": "markdown",
   "metadata": {},
   "source": [
    "## Benzotriazoles*\n"
   ]
  },
  {
   "cell_type": "markdown",
   "metadata": {},
   "source": [
    "This category is a bit of an anomaly. There are acute and chronic versions in the original XML that both matched to chemicals, but then there is also this hard-coded category from the previous developer, which is not matching anything. Will need expert advice for this one."
   ]
  },
  {
   "cell_type": "code",
   "execution_count": 185,
   "metadata": {},
   "outputs": [
    {
     "name": "stdout",
     "output_type": "stream",
     "text": [
      "Acute toxicity:\n",
      "21\n",
      "Chronic toxicity:\n",
      "5\n"
     ]
    }
   ],
   "source": [
    "#A count of matched to the Acute Toxicity XML-based version\n",
    "print(\"Acute toxicity:\")\n",
    "print(len(outputs.loc[outputs['Benzotriazoles (Acute toxicity)']==True]))\n",
    "\n",
    "#A count of matched to the Chronic Toxicity XML-based version\n",
    "print(\"Chronic toxicity:\")\n",
    "print(len(outputs.loc[outputs['Benzotriazoles (Chronic toxicity)']==True]))"
   ]
  },
  {
   "cell_type": "code",
   "execution_count": 186,
   "metadata": {},
   "outputs": [
    {
     "name": "stdout",
     "output_type": "stream",
     "text": [
      "Acute:\n",
      "('203', 'LogicalQuery', 'And', 'does not process')\n",
      "\t('195', 'b:StructureQuery', 'c12c(cccc1)[#7]=,:[#7][#7v3]2', 'does not process')\n",
      "\t('197', 'b:ParameterQuery', 'log Kow', 5.0, 'LessThan', 'does not process')\n",
      "\t('200', 'b:ParameterQuery', 'Molecular weight', 1000.0, 'LessThan', 'does not process')\n",
      "Chronic:\n",
      "('1159', 'LogicalQuery', 'And', 'does not process')\n",
      "\t('1148', 'b:StructureQuery', 'c12c(cccc1)[#7]=,:[#7][#7v3]2', 'does not process')\n",
      "\t('1150', 'b:ParameterQuery', 'log Kow', 5.0, 'GreaterThan', 'does not process')\n",
      "\t('1153', 'b:ParameterQuery', 'log Kow', 8.0, 'LessThan', 'does not process')\n",
      "\t('1156', 'b:ParameterQuery', 'Molecular weight', 1000.0, 'LessThan', 'does not process')\n",
      "New:\n",
      "('CustomQuery', 'b:StructureQuery', 'N1N=NC2=C1C=CC=C2', 'does not process')\n"
     ]
    }
   ],
   "source": [
    "print(\"Acute:\")\n",
    "printTree(\"Benzotriazoles (Acute toxicity)\")\n",
    "print(\"Chronic:\")\n",
    "printTree(\"Benzotriazoles (Chronic toxicity)\")\n",
    "print(\"New:\")\n",
    "printTree(\"Benzotriazoles\")\n"
   ]
  },
  {
   "cell_type": "markdown",
   "metadata": {},
   "source": [
    "## Epoxides*"
   ]
  },
  {
   "cell_type": "markdown",
   "metadata": {},
   "source": [
    "This category caused problems in the code I was originally given due to an invalid SMILES for aziridine in the original code. I modified it based on aziridine smiles information found on the web, but it looks like in the case below, the epoxide match is the issue. Overall, this category is likely in need of review from someone with more chemistry knowledge. Based on a couple tests, might this just be a lowercase vs. uppercase issue?"
   ]
  },
  {
   "cell_type": "code",
   "execution_count": 187,
   "metadata": {},
   "outputs": [
    {
     "name": "stdout",
     "output_type": "stream",
     "text": [
      "('CustomQuery', 'LogicalQuery', 'And', 'does not process')\n",
      "\t('CustomQuery', 'b:ParameterQuery', 'Molecular Weight', 1000, 'LessThan', 'does not process')\n",
      "\t('CustomQuery', 'LogicalQuery', 'Or', 'does not process')\n",
      "\t\t('CustomQuery', 'b:StructureQuery', 'c1oc1', 'does not process')\n",
      "\t\t('CustomQuery', 'b:StructureQuery', 'c1cn1', 'does not process')\n"
     ]
    }
   ],
   "source": [
    "printTree('Epoxides')"
   ]
  },
  {
   "cell_type": "code",
   "execution_count": 219,
   "metadata": {},
   "outputs": [],
   "source": [
    "# The tested chemical is 1,2-epoxyhexane\n",
    "# Only the structure and mol_weight matter for the query, but the DTXSID is also\n",
    "# provided for identifiability \n",
    "\n",
    "x = {'dsstox_sid':'DTXSID10870872', 'smiles': 'CCCCC1CO1', 'mol_weight':100.161 ,'logp':1.60, 'ws':0.00}\n",
    "x['mol'] = Chem.MolFromSmiles(x['smiles'])\n",
    "x['ws'] = 1000*x['mol_weight']*x['ws']"
   ]
  },
  {
   "cell_type": "code",
   "execution_count": 220,
   "metadata": {},
   "outputs": [
    {
     "name": "stdout",
     "output_type": "stream",
     "text": [
      "('CustomQuery', 'LogicalQuery', 'And', False)\n",
      "\t('CustomQuery', 'b:ParameterQuery', 'Molecular Weight', 1000, 'LessThan', 'does not process')\n",
      "\t('CustomQuery', 'LogicalQuery', 'Or', 'does not process')\n",
      "\t\t('CustomQuery', 'b:StructureQuery', 'c1oc1', 'does not process')\n",
      "\t\t('CustomQuery', 'b:StructureQuery', 'c1cn1', 'does not process')\n"
     ]
    }
   ],
   "source": [
    "printTree(category_title=\"Epoxides\", one_chem=x)"
   ]
  },
  {
   "cell_type": "code",
   "execution_count": 221,
   "metadata": {},
   "outputs": [
    {
     "data": {
      "text/plain": [
       "True"
      ]
     },
     "execution_count": 221,
     "metadata": {},
     "output_type": "execute_result"
    }
   ],
   "source": [
    "#Epoxide substructure matches when Smarts piece is capitalized (chem obviously satisfies parameter query)\n",
    "x['mol'].HasSubstructMatch(Chem.MolFromSmarts('C1OC1'))"
   ]
  },
  {
   "cell_type": "markdown",
   "metadata": {},
   "source": [
    "## Diazoniums (Chronic toxicity)\n",
    "(cleared)"
   ]
  },
  {
   "cell_type": "markdown",
   "metadata": {},
   "source": [
    "This category we will assume is correct because it differs from its nonempty partner only by the LogKow parameter query. Thus, there could reasonably just be no chemicals from this category in our data set. "
   ]
  },
  {
   "cell_type": "code",
   "execution_count": 191,
   "metadata": {},
   "outputs": [
    {
     "name": "stdout",
     "output_type": "stream",
     "text": [
      "('1427', 'LogicalQuery', 'And', 'does not process')\n",
      "\t('1419', 'b:StructureQuery', '[#7]#[#7+]c', 'does not process')\n",
      "\t('1421', 'b:ParameterQuery', 'log Kow', 8.0, 'GreaterThanOrEqualTo', 'does not process')\n",
      "\t('1424', 'b:ParameterQuery', 'Molecular weight', 1000.0, 'LessThan', 'does not process')\n"
     ]
    }
   ],
   "source": [
    "printTree('Diazoniums (Chronic toxicity)')"
   ]
  },
  {
   "cell_type": "code",
   "execution_count": 192,
   "metadata": {},
   "outputs": [
    {
     "name": "stdout",
     "output_type": "stream",
     "text": [
      "('282', 'LogicalQuery', 'And', 'does not process')\n",
      "\t('274', 'b:StructureQuery', '[#7]#[#7+]c', 'does not process')\n",
      "\t('276', 'b:ParameterQuery', 'log Kow', 8.0, 'LessThan', 'does not process')\n",
      "\t('279', 'b:ParameterQuery', 'Molecular weight', 1000.0, 'LessThan', 'does not process')\n"
     ]
    }
   ],
   "source": [
    "printTree('Diazoniums (Acute toxicity)')"
   ]
  },
  {
   "cell_type": "markdown",
   "metadata": {},
   "source": [
    "## beta-Naphthylamines, Sulfonated*"
   ]
  },
  {
   "cell_type": "markdown",
   "metadata": {},
   "source": [
    "My web searches for sulfonated beta napthylamines indicated 2-Amino-1-naphthalenesulfonic acid and 2-Naphthylamine-8-sulfonic acid as products of sulfonating beta-Naphthylamine, but neither matches to the category. This is a hard-coded category with a very complex definition, as can be seen in the trees below. I could definitely use some input on whether the chemicals I used should actually fall into this category and, if so, how to fix its definition. "
   ]
  },
  {
   "cell_type": "code",
   "execution_count": 193,
   "metadata": {},
   "outputs": [
    {
     "name": "stdout",
     "output_type": "stream",
     "text": [
      "('CustomQuery', 'LogicalQuery', 'or', 'does not process')\n",
      "\t('CustomQuery', 'b:StructureQuery', '[NH2]c1[cH1,$(cO)]c2[cH,$(c[OH]),$(c[NH2])]c([$(S(=O)(=O)[OH]),$(S(=O)(=O)[CH2][CH2]S[OH3])])[cH][cH]c2[cH][cH]1, Must Match in Both Directions', 'does not process')\n",
      "\t('CustomQuery', 'b:StructureQuery', '[NH2]c1[cH1,$(cO)]c2c([$(S(=O)(=O)[OH]),$(S(=O)(=O)[CH2][CH2]S[OH3])])[cH1,$(c[OH]),$(c[NH2])][cH][cH]c2[cH][cH]1, Must Match in Both Directions', 'does not process')\n",
      "\t('CustomQuery', 'b:StructureQuery', '[NH2]c1[cH1,$(cO)]c2[cH,$(c[OH]),$(c[NH2])][cH]c([$(S(=O)(=O)[OH]),$(S(=O)(=O)[CH2][CH2]S[OH3])])[cH]c2[cH][cH]1, Must Match in Both Directions', 'does not process')\n",
      "\t('CustomQuery', 'b:StructureQuery', '[NH2]c1[cH1,$(cO)]c2c([$(S(=O)(=O)[OH]),$(S(=O)(=O)[CH2][CH2]S[OH3])])[cH][cH1,$(c[OH]),$(c[NH2])][cH]c2[cH][cH]1, Must Match in Both Directions', 'does not process')\n",
      "\t('CustomQuery', 'b:StructureQuery', '[NH2]c1[cH1,$(cO)]c2[cH,$(c[OH]),$(c[NH2])][cH][cH]c([$(S(=O)(=O)[OH]),$(S(=O)(=O)[CH2][CH2]S[OH3])])c2[cH][cH]1, Must Match in Both Directions', 'does not process')\n",
      "\t('CustomQuery', 'b:StructureQuery', '[NH2]c1[cH1,$(cO)]c2c([$(S(=O)(=O)[OH]),$(S(=O)(=O)[CH2][CH2]S[OH3])])[cH][cH][cH1,$(c[OH]),$(c[NH2])]c2[cH][cH]1, Must Match in Both Directions', 'does not process')\n",
      "\t('CustomQuery', 'b:StructureQuery', '[NH2]c1[cH1,$(cO)]c2[cH][cH,$(c[OH]),$(c[NH2])]c([$(S(=O)(=O)[OH]),$(S(=O)(=O)[CH2][CH2]S[OH3])])[cH]c2[cH][cH]1, Must Match in Both Directions', 'does not process')\n",
      "\t('CustomQuery', 'b:StructureQuery', '[NH2]c1[cH1,$(cO)]c2[cH]c([$(S(=O)(=O)[OH]),$(S(=O)(=O)[CH2][CH2]S[OH3])])[cH1,$(c[OH]),$(c[NH2])][cH]c2[cH][cH]1, Must Match in Both Directions', 'does not process')\n",
      "\t('CustomQuery', 'b:StructureQuery', '[NH2]c1[cH1,$(cO)]c2[cH][cH,$(c[OH]),$(c[NH2])][cH]c([$(S(=O)(=O)[OH]),$(S(=O)(=O)[CH2][CH2]S[OH3])])c2[cH][cH]1, Must Match in Both Directions', 'does not process')\n",
      "\t('CustomQuery', 'b:StructureQuery', '[NH2]c1[cH1,$(cO)]c2[cH]c([$(S(=O)(=O)[OH]),$(S(=O)(=O)[CH2][CH2]S[OH3])])[cH][cH1,$(c[OH]),$(c[NH2])]c2[cH][cH]1, Must Match in Both Directions', 'does not process')\n",
      "\t('CustomQuery', 'b:StructureQuery', '[NH2]c1[cH1,$(cO)]c2[cH][cH][cH,$(c[OH]),$(c[NH2])]c([$(S(=O)(=O)[OH]),$(S(=O)(=O)[CH2][CH2]S[OH3])])c2[cH][cH]1, Must Match in Both Directions', 'does not process')\n",
      "\t('CustomQuery', 'b:StructureQuery', '[NH2]c1[cH1,$(cO)]c2[cH][cH]c([$(S(=O)(=O)[OH]),$(S(=O)(=O)[CH2][CH2]S[OH3])])[cH1,$(c[OH]),$(c[NH2])]c2[cH][cH]1, Must Match in Both Directions', 'does not process')\n"
     ]
    }
   ],
   "source": [
    "printTree('beta-Naphthylamines, Sulfonated')"
   ]
  },
  {
   "cell_type": "code",
   "execution_count": 194,
   "metadata": {},
   "outputs": [],
   "source": [
    "# The tested chemical is 2-Amino-1-naphthalenesulfonic acid\n",
    "# Only the structure matters for the query, but the DTXSID and mol_weight are also\n",
    "# provided for identifiability \n",
    "\n",
    "x = {'dsstox_sid':'DTXSID7020922', 'smiles': 'NC1=CC=C2C=CC=CC2=C1S(O)(=O)=O', 'mol_weight':223.25 ,'logp':1.60, 'ws':0.00}\n",
    "x['mol'] = Chem.MolFromSmiles(x['smiles'])\n"
   ]
  },
  {
   "cell_type": "code",
   "execution_count": 195,
   "metadata": {},
   "outputs": [
    {
     "name": "stdout",
     "output_type": "stream",
     "text": [
      "('CustomQuery', 'LogicalQuery', 'or', False)\n",
      "\t('CustomQuery', 'b:StructureQuery', '[NH2]c1[cH1,$(cO)]c2[cH,$(c[OH]),$(c[NH2])]c([$(S(=O)(=O)[OH]),$(S(=O)(=O)[CH2][CH2]S[OH3])])[cH][cH]c2[cH][cH]1, Must Match in Both Directions', 'does not process')\n",
      "\t('CustomQuery', 'b:StructureQuery', '[NH2]c1[cH1,$(cO)]c2c([$(S(=O)(=O)[OH]),$(S(=O)(=O)[CH2][CH2]S[OH3])])[cH1,$(c[OH]),$(c[NH2])][cH][cH]c2[cH][cH]1, Must Match in Both Directions', 'does not process')\n",
      "\t('CustomQuery', 'b:StructureQuery', '[NH2]c1[cH1,$(cO)]c2[cH,$(c[OH]),$(c[NH2])][cH]c([$(S(=O)(=O)[OH]),$(S(=O)(=O)[CH2][CH2]S[OH3])])[cH]c2[cH][cH]1, Must Match in Both Directions', 'does not process')\n",
      "\t('CustomQuery', 'b:StructureQuery', '[NH2]c1[cH1,$(cO)]c2c([$(S(=O)(=O)[OH]),$(S(=O)(=O)[CH2][CH2]S[OH3])])[cH][cH1,$(c[OH]),$(c[NH2])][cH]c2[cH][cH]1, Must Match in Both Directions', 'does not process')\n",
      "\t('CustomQuery', 'b:StructureQuery', '[NH2]c1[cH1,$(cO)]c2[cH,$(c[OH]),$(c[NH2])][cH][cH]c([$(S(=O)(=O)[OH]),$(S(=O)(=O)[CH2][CH2]S[OH3])])c2[cH][cH]1, Must Match in Both Directions', 'does not process')\n",
      "\t('CustomQuery', 'b:StructureQuery', '[NH2]c1[cH1,$(cO)]c2c([$(S(=O)(=O)[OH]),$(S(=O)(=O)[CH2][CH2]S[OH3])])[cH][cH][cH1,$(c[OH]),$(c[NH2])]c2[cH][cH]1, Must Match in Both Directions', 'does not process')\n",
      "\t('CustomQuery', 'b:StructureQuery', '[NH2]c1[cH1,$(cO)]c2[cH][cH,$(c[OH]),$(c[NH2])]c([$(S(=O)(=O)[OH]),$(S(=O)(=O)[CH2][CH2]S[OH3])])[cH]c2[cH][cH]1, Must Match in Both Directions', 'does not process')\n",
      "\t('CustomQuery', 'b:StructureQuery', '[NH2]c1[cH1,$(cO)]c2[cH]c([$(S(=O)(=O)[OH]),$(S(=O)(=O)[CH2][CH2]S[OH3])])[cH1,$(c[OH]),$(c[NH2])][cH]c2[cH][cH]1, Must Match in Both Directions', 'does not process')\n",
      "\t('CustomQuery', 'b:StructureQuery', '[NH2]c1[cH1,$(cO)]c2[cH][cH,$(c[OH]),$(c[NH2])][cH]c([$(S(=O)(=O)[OH]),$(S(=O)(=O)[CH2][CH2]S[OH3])])c2[cH][cH]1, Must Match in Both Directions', 'does not process')\n",
      "\t('CustomQuery', 'b:StructureQuery', '[NH2]c1[cH1,$(cO)]c2[cH]c([$(S(=O)(=O)[OH]),$(S(=O)(=O)[CH2][CH2]S[OH3])])[cH][cH1,$(c[OH]),$(c[NH2])]c2[cH][cH]1, Must Match in Both Directions', 'does not process')\n",
      "\t('CustomQuery', 'b:StructureQuery', '[NH2]c1[cH1,$(cO)]c2[cH][cH][cH,$(c[OH]),$(c[NH2])]c([$(S(=O)(=O)[OH]),$(S(=O)(=O)[CH2][CH2]S[OH3])])c2[cH][cH]1, Must Match in Both Directions', 'does not process')\n",
      "\t('CustomQuery', 'b:StructureQuery', '[NH2]c1[cH1,$(cO)]c2[cH][cH]c([$(S(=O)(=O)[OH]),$(S(=O)(=O)[CH2][CH2]S[OH3])])[cH1,$(c[OH]),$(c[NH2])]c2[cH][cH]1, Must Match in Both Directions', 'does not process')\n"
     ]
    }
   ],
   "source": [
    "printTree(category_title='beta-Naphthylamines, Sulfonated', one_chem=x)"
   ]
  },
  {
   "cell_type": "code",
   "execution_count": 196,
   "metadata": {},
   "outputs": [],
   "source": [
    "# The tested chemical is 2-Amino-8-naphthalenesulfonic acid (Badische acid)\n",
    "# Only the structure matters for the query, but the DTXSID and mol_weight are also\n",
    "# provided for identifiability \n",
    "\n",
    "x = {'dsstox_sid':'DTXSID00235335', 'smiles': 'NC1=CC2=C(C=CC=C2S(O)(=O)=O)C=C1', 'mol_weight':223.25 ,'logp':1.60, 'ws':0.00}\n",
    "x['mol'] = Chem.MolFromSmiles(x['smiles'])"
   ]
  },
  {
   "cell_type": "code",
   "execution_count": 197,
   "metadata": {},
   "outputs": [
    {
     "name": "stdout",
     "output_type": "stream",
     "text": [
      "('CustomQuery', 'LogicalQuery', 'or', False)\n",
      "\t('CustomQuery', 'b:StructureQuery', '[NH2]c1[cH1,$(cO)]c2[cH,$(c[OH]),$(c[NH2])]c([$(S(=O)(=O)[OH]),$(S(=O)(=O)[CH2][CH2]S[OH3])])[cH][cH]c2[cH][cH]1, Must Match in Both Directions', 'does not process')\n",
      "\t('CustomQuery', 'b:StructureQuery', '[NH2]c1[cH1,$(cO)]c2c([$(S(=O)(=O)[OH]),$(S(=O)(=O)[CH2][CH2]S[OH3])])[cH1,$(c[OH]),$(c[NH2])][cH][cH]c2[cH][cH]1, Must Match in Both Directions', 'does not process')\n",
      "\t('CustomQuery', 'b:StructureQuery', '[NH2]c1[cH1,$(cO)]c2[cH,$(c[OH]),$(c[NH2])][cH]c([$(S(=O)(=O)[OH]),$(S(=O)(=O)[CH2][CH2]S[OH3])])[cH]c2[cH][cH]1, Must Match in Both Directions', 'does not process')\n",
      "\t('CustomQuery', 'b:StructureQuery', '[NH2]c1[cH1,$(cO)]c2c([$(S(=O)(=O)[OH]),$(S(=O)(=O)[CH2][CH2]S[OH3])])[cH][cH1,$(c[OH]),$(c[NH2])][cH]c2[cH][cH]1, Must Match in Both Directions', 'does not process')\n",
      "\t('CustomQuery', 'b:StructureQuery', '[NH2]c1[cH1,$(cO)]c2[cH,$(c[OH]),$(c[NH2])][cH][cH]c([$(S(=O)(=O)[OH]),$(S(=O)(=O)[CH2][CH2]S[OH3])])c2[cH][cH]1, Must Match in Both Directions', 'does not process')\n",
      "\t('CustomQuery', 'b:StructureQuery', '[NH2]c1[cH1,$(cO)]c2c([$(S(=O)(=O)[OH]),$(S(=O)(=O)[CH2][CH2]S[OH3])])[cH][cH][cH1,$(c[OH]),$(c[NH2])]c2[cH][cH]1, Must Match in Both Directions', 'does not process')\n",
      "\t('CustomQuery', 'b:StructureQuery', '[NH2]c1[cH1,$(cO)]c2[cH][cH,$(c[OH]),$(c[NH2])]c([$(S(=O)(=O)[OH]),$(S(=O)(=O)[CH2][CH2]S[OH3])])[cH]c2[cH][cH]1, Must Match in Both Directions', 'does not process')\n",
      "\t('CustomQuery', 'b:StructureQuery', '[NH2]c1[cH1,$(cO)]c2[cH]c([$(S(=O)(=O)[OH]),$(S(=O)(=O)[CH2][CH2]S[OH3])])[cH1,$(c[OH]),$(c[NH2])][cH]c2[cH][cH]1, Must Match in Both Directions', 'does not process')\n",
      "\t('CustomQuery', 'b:StructureQuery', '[NH2]c1[cH1,$(cO)]c2[cH][cH,$(c[OH]),$(c[NH2])][cH]c([$(S(=O)(=O)[OH]),$(S(=O)(=O)[CH2][CH2]S[OH3])])c2[cH][cH]1, Must Match in Both Directions', 'does not process')\n",
      "\t('CustomQuery', 'b:StructureQuery', '[NH2]c1[cH1,$(cO)]c2[cH]c([$(S(=O)(=O)[OH]),$(S(=O)(=O)[CH2][CH2]S[OH3])])[cH][cH1,$(c[OH]),$(c[NH2])]c2[cH][cH]1, Must Match in Both Directions', 'does not process')\n",
      "\t('CustomQuery', 'b:StructureQuery', '[NH2]c1[cH1,$(cO)]c2[cH][cH][cH,$(c[OH]),$(c[NH2])]c([$(S(=O)(=O)[OH]),$(S(=O)(=O)[CH2][CH2]S[OH3])])c2[cH][cH]1, Must Match in Both Directions', 'does not process')\n",
      "\t('CustomQuery', 'b:StructureQuery', '[NH2]c1[cH1,$(cO)]c2[cH][cH]c([$(S(=O)(=O)[OH]),$(S(=O)(=O)[CH2][CH2]S[OH3])])[cH1,$(c[OH]),$(c[NH2])]c2[cH][cH]1, Must Match in Both Directions', 'does not process')\n"
     ]
    }
   ],
   "source": [
    "printTree(category_title='beta-Naphthylamines, Sulfonated', one_chem=x)"
   ]
  },
  {
   "cell_type": "markdown",
   "metadata": {},
   "source": [
    "## Organotins (Chronic toxicity) and Organotins (Acute toxicity)\n",
    "(cleared)"
   ]
  },
  {
   "cell_type": "markdown",
   "metadata": {},
   "source": [
    "As the chronic and acute versions of these compounds differ only on parameter definitions, if we can find a working example of either, we will consider them both to be cleared. "
   ]
  },
  {
   "cell_type": "code",
   "execution_count": 198,
   "metadata": {},
   "outputs": [
    {
     "name": "stdout",
     "output_type": "stream",
     "text": [
      "('CustomQuery', 'LogicalQuery', 'And', 'does not process')\n",
      "\t('CustomQuery', 'b:ParameterQuery', 'Molecular Weight', 1000, 'LessThan', 'does not process')\n",
      "\t('CustomQuery', 'b:ParameterQuery', 'Log Kow', 13.7, 'GreaterThanOrEqualTo', 'does not process')\n",
      "\t('CustomQuery', 'b:StructureQuery', 'C[Sn]', 'does not process')\n"
     ]
    }
   ],
   "source": [
    "printTree(\"Organotins (Chronic toxicity)\")"
   ]
  },
  {
   "cell_type": "code",
   "execution_count": 199,
   "metadata": {},
   "outputs": [
    {
     "name": "stdout",
     "output_type": "stream",
     "text": [
      "('CustomQuery', 'LogicalQuery', 'And', 'does not process')\n",
      "\t('CustomQuery', 'b:ParameterQuery', 'Molecular Weight', 1000, 'LessThan', 'does not process')\n",
      "\t('CustomQuery', 'b:ParameterQuery', 'Log Kow', 13.7, 'LessThanOrEqualTo', 'does not process')\n",
      "\t('CustomQuery', 'b:StructureQuery', 'C[Sn]', 'does not process')\n"
     ]
    }
   ],
   "source": [
    "printTree('Organotins (Acute toxicity)')"
   ]
  },
  {
   "cell_type": "code",
   "execution_count": 200,
   "metadata": {},
   "outputs": [],
   "source": [
    "# The tested chemical is Cyhexatin\n",
    "\n",
    "x = {'dsstox_sid':'DTXSID1032357', 'smiles': 'O[Sn](C1CCCCC1)(C1CCCCC1)C1CCCCC1', 'mol_weight':385.179 ,'logp':5.44, 'ws':0.000000416}\n",
    "x['mol'] = Chem.MolFromSmiles(x['smiles'])\n",
    "x['ws'] = 1000*x['mol_weight']*x['ws']\n",
    "\n"
   ]
  },
  {
   "cell_type": "code",
   "execution_count": 201,
   "metadata": {},
   "outputs": [
    {
     "name": "stdout",
     "output_type": "stream",
     "text": [
      "('CustomQuery', 'LogicalQuery', 'And', True)\n",
      "\t('CustomQuery', 'b:ParameterQuery', 'Molecular Weight', 1000, 'LessThan', 'does not process')\n",
      "\t('CustomQuery', 'b:ParameterQuery', 'Log Kow', 13.7, 'LessThanOrEqualTo', 'does not process')\n",
      "\t('CustomQuery', 'b:StructureQuery', 'C[Sn]', 'does not process')\n"
     ]
    }
   ],
   "source": [
    "printTree(category_title='Organotins (Acute toxicity)', one_chem=x)"
   ]
  },
  {
   "cell_type": "markdown",
   "metadata": {},
   "source": [
    "## Cobalt\n",
    "(cleared)"
   ]
  },
  {
   "cell_type": "code",
   "execution_count": 202,
   "metadata": {},
   "outputs": [
    {
     "name": "stdout",
     "output_type": "stream",
     "text": [
      "('263', 'LogicalQuery', 'And', 'does not process')\n",
      "\t('252', 'b:StructureQuery', '[Co]', 'does not process')\n",
      "\t('254', 'b:ParameterQuery', 'log Kow', 8.0, 'LessThan', 'does not process')\n",
      "\t('257', 'b:ParameterQuery', 'Molecular Weight', 1000.0, 'LessThan', 'does not process')\n",
      "\t('260', 'b:ParameterQuery', 'Water Solubility', 1.0, 'GreaterThanOrEqualTo', 'does not process')\n"
     ]
    }
   ],
   "source": [
    "printTree(\"Cobalt\")"
   ]
  },
  {
   "cell_type": "code",
   "execution_count": 217,
   "metadata": {},
   "outputs": [],
   "source": [
    "# The tested chemical is Cobalt chloride (CoCl3)\n",
    "\n",
    "x = {'dsstox_sid':'DTXSID5065011', 'smiles': 'Cl[Co](Cl)Cl', 'mol_weight':165.28 ,'logp':1.16, 'ws':0.04}\n",
    "x['mol'] = Chem.MolFromSmiles(x['smiles'])\n",
    "x['ws'] = 1000*x['mol_weight']*x['ws']\n",
    "\n"
   ]
  },
  {
   "cell_type": "code",
   "execution_count": 218,
   "metadata": {},
   "outputs": [
    {
     "name": "stdout",
     "output_type": "stream",
     "text": [
      "('263', 'LogicalQuery', 'And', True)\n",
      "\t('252', 'b:StructureQuery', '[Co]', True)\n",
      "\t('254', 'b:ParameterQuery', 'log Kow', 8.0, 'LessThan', True)\n",
      "\t('257', 'b:ParameterQuery', 'Molecular Weight', 1000.0, 'LessThan', True)\n",
      "\t('260', 'b:ParameterQuery', 'Water Solubility', 1.0, 'GreaterThanOrEqualTo', True)\n"
     ]
    }
   ],
   "source": [
    "printTree(category_title='Cobalt', one_chem=x)"
   ]
  },
  {
   "cell_type": "markdown",
   "metadata": {},
   "source": [
    "## Polynitroaromatics (Chronic toxicity) \n",
    "+ further search or help needed"
   ]
  },
  {
   "cell_type": "markdown",
   "metadata": {},
   "source": [
    "Despite having a nonempty partner, the structural query for this category is not the same. Thus, we should try to find an example of this category and test it. \n",
    "\n",
    "My web search so far has not turned up any chemicals that would meet the definition for chronic toxicity here. In particular, all identified polynitroaromatics so far have logp values far too low for this definition. "
   ]
  },
  {
   "cell_type": "code",
   "execution_count": 205,
   "metadata": {},
   "outputs": [
    {
     "name": "stdout",
     "output_type": "stream",
     "text": [
      "('CustomQuery', 'LogicalQuery', 'And', 'does not process')\n",
      "\t('CustomQuery', 'b:StructureQuery', 'N[$(c1c(N)cccc1),$(c1cc(N)ccc1),$(c1ccc(N)cc1),$(c1cncc(N)c1)]', 'does not process')\n",
      "\t('CustomQuery', 'b:ParameterQuery', 'Molecular Weight', 1000, 'LessThan', 'does not process')\n",
      "\t('CustomQuery', 'b:ParameterQuery', 'Log Kow', 10, 'GreaterThanOrEqualTo', 'does not process')\n"
     ]
    }
   ],
   "source": [
    "printTree(\"Polynitroaromatics (Chronic toxicity)\")"
   ]
  },
  {
   "cell_type": "code",
   "execution_count": 206,
   "metadata": {},
   "outputs": [
    {
     "name": "stdout",
     "output_type": "stream",
     "text": [
      "('CustomQuery', 'LogicalQuery', 'And', 'does not process')\n",
      "\t('CustomQuery', 'b:StructureQuery', 'ON(=O)[$(c1c(N(O)=O)cccc1),$(c1cc(N(O)=O)ccc1),$(c1ccc(N(O)=O)cc1),$(c1cncc(N(O)=O)c1)]', 'does not process')\n",
      "\t('CustomQuery', 'b:ParameterQuery', 'Molecular Weight', 1000, 'LessThan', 'does not process')\n",
      "\t('CustomQuery', 'b:ParameterQuery', 'Log Kow', 7, 'LessThan', 'does not process')\n"
     ]
    }
   ],
   "source": [
    "printTree(\"Polynitroaromatics (Acute toxicity)\")"
   ]
  },
  {
   "cell_type": "code",
   "execution_count": 229,
   "metadata": {},
   "outputs": [],
   "source": [
    "# The tested chemical is TNT\n",
    "\n",
    "x = {'dsstox_sid':'DTXSID7024372', 'smiles': 'CC1=C(C=C(C=C1[N+]([O-])=O)[N+]([O-])=O)[N+]([O-])=O', 'mol_weight':227.132 ,'logp':1.73, 'ws':0.000567}\n",
    "x['mol'] = Chem.MolFromSmiles(x['smiles'])\n",
    "x['ws'] = 1000*x['mol_weight']*x['ws']"
   ]
  },
  {
   "cell_type": "code",
   "execution_count": 230,
   "metadata": {},
   "outputs": [
    {
     "name": "stdout",
     "output_type": "stream",
     "text": [
      "('CustomQuery', 'LogicalQuery', 'And', True)\n",
      "\t('CustomQuery', 'b:StructureQuery', 'ON(=O)[$(c1c(N(O)=O)cccc1),$(c1cc(N(O)=O)ccc1),$(c1ccc(N(O)=O)cc1),$(c1cncc(N(O)=O)c1)]', 'does not process')\n",
      "\t('CustomQuery', 'b:ParameterQuery', 'Molecular Weight', 1000, 'LessThan', 'does not process')\n",
      "\t('CustomQuery', 'b:ParameterQuery', 'Log Kow', 7, 'LessThan', 'does not process')\n"
     ]
    },
    {
     "ename": "",
     "evalue": "",
     "output_type": "error",
     "traceback": [
      "\u001b[1;31mThe Kernel crashed while executing code in the current cell or a previous cell. \n",
      "\u001b[1;31mPlease review the code in the cell(s) to identify a possible cause of the failure. \n",
      "\u001b[1;31mClick <a href='https://aka.ms/vscodeJupyterKernelCrash'>here</a> for more info. \n",
      "\u001b[1;31mView Jupyter <a href='command:jupyter.viewOutput'>log</a> for further details."
     ]
    }
   ],
   "source": [
    "printTree(category_title=\"Polynitroaromatics (Acute toxicity)\", one_chem=x)"
   ]
  },
  {
   "cell_type": "markdown",
   "metadata": {},
   "source": [
    "## Phosphinate Esters (Chronic toxicity)\n",
    "(cleared)"
   ]
  },
  {
   "cell_type": "markdown",
   "metadata": {},
   "source": [
    "This category we will assume is correct because it differs from its nonempty partner only by the LogKow parameter query. Thus, there could reasonably just be no chemicals from this category in our data set. "
   ]
  },
  {
   "cell_type": "code",
   "execution_count": 207,
   "metadata": {},
   "outputs": [
    {
     "name": "stdout",
     "output_type": "stream",
     "text": [
      "('1312', 'LogicalQuery', 'And', 'does not process')\n",
      "\t('1301', 'b:StructureQuery', '[#6][#8][#15v5](=[#8])([#6])[#6]', 'does not process')\n",
      "\t('1303', 'b:ParameterQuery', 'log Kow', 5.0, 'GreaterThan', 'does not process')\n",
      "\t('1306', 'b:ParameterQuery', 'log Kow', 8.0, 'LessThan', 'does not process')\n",
      "\t('1309', 'b:ParameterQuery', 'Molecular weight', 1000.0, 'LessThan', 'does not process')\n"
     ]
    }
   ],
   "source": [
    "printTree('Phosphinate Esters (Chronic toxicity)')"
   ]
  },
  {
   "cell_type": "code",
   "execution_count": 208,
   "metadata": {},
   "outputs": [
    {
     "name": "stdout",
     "output_type": "stream",
     "text": [
      "('641', 'LogicalQuery', 'And', 'does not process')\n",
      "\t('633', 'b:StructureQuery', '[#6][#8][#15v5](=[#8])([#6])[#6]', 'does not process')\n",
      "\t('635', 'b:ParameterQuery', 'log Kow', 5.0, 'LessThan', 'does not process')\n",
      "\t('638', 'b:ParameterQuery', 'Molecular weight', 1000.0, 'LessThan', 'does not process')\n"
     ]
    }
   ],
   "source": [
    "printTree('Phosphinate Esters (Acute toxicity)')"
   ]
  }
 ],
 "metadata": {
  "kernelspec": {
   "display_name": "venv",
   "language": "python",
   "name": "python3"
  },
  "language_info": {
   "codemirror_mode": {
    "name": "ipython",
    "version": 3
   },
   "file_extension": ".py",
   "mimetype": "text/x-python",
   "name": "python",
   "nbconvert_exporter": "python",
   "pygments_lexer": "ipython3",
   "version": "3.12.2"
  }
 },
 "nbformat": 4,
 "nbformat_minor": 2
}
