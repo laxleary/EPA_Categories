{
 "cells": [
  {
   "cell_type": "markdown",
   "metadata": {},
   "source": [
    "## Anionic surfactants test"
   ]
  },
  {
   "cell_type": "code",
   "execution_count": 66,
   "metadata": {},
   "outputs": [],
   "source": [
    "def anionic_test():\n",
    "    sulfate = Chem.MolFromSmarts('COS(=O)(=O)[OH,O-]')\n",
    "    sulfonate = Chem.MolFromSmarts('CS(=O)(=O)[OH,O-]')\n",
    "    phosphate = Chem.MolFromSmarts('COP([OH1])([OH1])=O')\n",
    "    carboxylic = Chem.MolFromSmarts('[CX3;!$(Cc)](=O)[OX2H1]')\n",
    "    silicic = Chem.MolFromSmarts('[Si][OX2H]')\n",
    "    \n",
    "    if not all([sulfate, sulfonate, phosphate, carboxylic, silicic]):\n",
    "        raise ValueError(\"One or more SMARTS patterns failed to initialize.\")\n",
    "    \n",
    "    def test(x):\n",
    "        mol = x['mol']\n",
    "        smiles = x['smiles']\n",
    "        \n",
    "        # Character filtering\n",
    "        if mol is None:\n",
    "            return False\n",
    "        \n",
    "        # Exclude branching with carbon atoms\n",
    "        \n",
    "        if has_branching_with_carbon(mol):\n",
    "            return False\n",
    "        \n",
    "        # Ensure a straight alkyl chain\n",
    "        \n",
    "        if not is_straight_alkyl_chain(mol):\n",
    "            return False\n",
    "        \n",
    "        # Substructure matching\n",
    "        return (\n",
    "            mol.HasSubstructMatch(sulfate) or \n",
    "            mol.HasSubstructMatch(sulfonate) or \n",
    "            mol.HasSubstructMatch(phosphate) or \n",
    "            mol.HasSubstructMatch(carboxylic) or \n",
    "            mol.HasSubstructMatch(silicic)\n",
    "        )\n",
    "    \n",
    "    return test\n"
   ]
  },
  {
   "cell_type": "code",
   "execution_count": 67,
   "metadata": {},
   "outputs": [],
   "source": [
    "from rdkit.Chem import rdmolops\n",
    "\n",
    "def is_straight_alkyl_chain(mol):\n",
    "    carbons = [atom.GetIdx() for atom in mol.GetAtoms() if atom.GetSymbol() == \"C\"]\n",
    "    for idx in carbons:\n",
    "        atom = mol.GetAtomWithIdx(idx)\n",
    "        # Ensure no carbon has more than 2 non-functional group bonds\n",
    "        if atom.GetDegree() > 2:\n",
    "            neighbors = [nbr.GetSymbol() for nbr in atom.GetNeighbors()]\n",
    "            if not all(n in {\"O\", \"S\"} for n in neighbors if n != \"C\"):\n",
    "                return False\n",
    "    return True"
   ]
  },
  {
   "cell_type": "code",
   "execution_count": 68,
   "metadata": {},
   "outputs": [],
   "source": [
    "def has_branching_with_carbon(mol):\n",
    "    for atom in mol.GetAtoms():\n",
    "        if atom.GetSymbol() == \"C\" and atom.GetDegree() > 2:\n",
    "            neighbors = [nbr.GetSymbol() for nbr in atom.GetNeighbors()]\n",
    "            print(f\"Carbon index {atom.GetIdx()} degree: {atom.GetDegree()}, neighbors: {neighbors}\")\n",
    "            # Only count branching caused by carbon neighbors\n",
    "            carbon_neighbors = [n for n in neighbors if n == \"C\"]\n",
    "            if len(carbon_neighbors) > 2:\n",
    "                print(f\"Branching detected at carbon index {atom.GetIdx()} with neighbors {neighbors}\")\n",
    "                return True\n",
    "    return False"
   ]
  },
  {
   "cell_type": "code",
   "execution_count": 69,
   "metadata": {},
   "outputs": [],
   "source": [
    "mol2 = Chem.MolFromSmiles('[Na+].CCCCCCCCCCCCOS([O-])(=O)=O')\n",
    "smiles = '[Na+].CCCCCCCCCCCCOS([O-])(=O)=O'\n"
   ]
  },
  {
   "cell_type": "code",
   "execution_count": 70,
   "metadata": {},
   "outputs": [
    {
     "name": "stdout",
     "output_type": "stream",
     "text": [
      "Test function callable: True\n",
      "Final result: True\n"
     ]
    }
   ],
   "source": [
    "test_fn = anionic_test()\n",
    "print(\"Test function callable:\", callable(test_fn))\n",
    "result = test_fn({'mol': mol2, 'smiles': smiles})\n",
    "print(\"Final result:\", result)"
   ]
  },
  {
   "cell_type": "code",
   "execution_count": null,
   "metadata": {},
   "outputs": [],
   "source": []
  }
 ],
 "metadata": {
  "kernelspec": {
   "display_name": "py310",
   "language": "python",
   "name": "py310"
  },
  "language_info": {
   "codemirror_mode": {
    "name": "ipython",
    "version": 3
   },
   "file_extension": ".py",
   "mimetype": "text/x-python",
   "name": "python",
   "nbconvert_exporter": "python",
   "pygments_lexer": "ipython3",
   "version": "3.10.14"
  },
  "widgets": {
   "application/vnd.jupyter.widget-state+json": {
    "state": {},
    "version_major": 2,
    "version_minor": 0
   }
  }
 },
 "nbformat": 4,
 "nbformat_minor": 4
}
